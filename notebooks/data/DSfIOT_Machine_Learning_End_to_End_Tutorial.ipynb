{
  "nbformat": 4,
  "nbformat_minor": 0,
  "metadata": {
    "colab": {
      "name": "DSfIOT - Machine Learning End to End Tutorial",
      "version": "0.3.2",
      "provenance": [],
      "collapsed_sections": []
    },
    "kernelspec": {
      "name": "python3",
      "display_name": "Python 3"
    }
  },
  "cells": [
    {
      "metadata": {
        "id": "BlmQIFSLZDdc",
        "colab_type": "text"
      },
      "cell_type": "markdown",
      "source": [
        "# DSfIOT: Machine Learning End to End Tutorial "
      ]
    },
    {
      "metadata": {
        "id": "kSI9uEem9zvX",
        "colab_type": "text"
      },
      "cell_type": "markdown",
      "source": [
        "\n",
        "## Aims and Structure of the session\n"
      ]
    },
    {
      "metadata": {
        "id": "NAUFltle9zyP",
        "colab_type": "text"
      },
      "cell_type": "markdown",
      "source": [
        "### Aims\n",
        "\n",
        "* Provide an overview and end-to-end implementation of a machine learning problem, using supervised learning methods \n",
        "* Provide code and exercises to develop learning \n",
        "* Provide links to further reading and ideas for future exercises that enable you to continue learning\n",
        "* We are limited on time, and therefore *won't* cover:\n",
        "  * *Machine Learning Theory* in any great detail, other than to enable you to understand the code we are implementing \n",
        "  * *Exploratory Data Analysis*, which is often undertaken prior to building models to understand the data and what features might be useful in our model\n",
        "  * *Feature Engineering*, which is about developing new features from the data that might better serve how our model predicts output variable\n",
        "  * *Visualisations* of the modelling and data, which can be helpful in understanding model performance (and are also used for exploratory data analysis)\n",
        "* We can look to cover these topics at future sessions or via Slack with the same or a different dataset - it would be good to understand what your priorities are"
      ]
    },
    {
      "metadata": {
        "id": "WDRYcGBW-jfG",
        "colab_type": "text"
      },
      "cell_type": "markdown",
      "source": [
        "### Structure of two days \n",
        "\n",
        "* **Day 1: Machine Learning:** \n",
        "  1. Introduction to ML and ML approach, Introduction to problem\n",
        "  2. Load data, preprocess and split data\n",
        "  3. Build model,  train and predict \n",
        "  4. Refine model \n",
        "\n",
        "* **Day 2: Deep Learning** \n",
        "  1. Introduction to Deep Learning and Keras \n",
        "  2. Build DL model, train and predict \n",
        "  3. Refine model \n",
        " "
      ]
    },
    {
      "metadata": {
        "id": "D6AaSHgVAX8P",
        "colab_type": "text"
      },
      "cell_type": "markdown",
      "source": [
        "## Day1: Machine Learning \n"
      ]
    },
    {
      "metadata": {
        "id": "SkHyqybY_05Q",
        "colab_type": "text"
      },
      "cell_type": "markdown",
      "source": [
        "### 1. Introduction to Machine Learning, Machine Learning Approach and Introduction to the problem "
      ]
    },
    {
      "metadata": {
        "id": "fC4WN8OfBfKM",
        "colab_type": "text"
      },
      "cell_type": "markdown",
      "source": [
        "### 1.1 Introduction to Machine Learning\n",
        "**Aim:** \n",
        "* To introduce the concept of machine learning \n",
        "* Introduce the different types of machine learning\n",
        "\n",
        "---\n",
        "\n",
        "\n",
        "**Machine Learning**\n",
        "* From ['Python Data Science Handbook'](https://jakevdp.github.io/PythonDataScienceHandbook/) by Jake VanderPlass:\n",
        "\n",
        "*Machine learning is often categorized as a subfield of artificial intelligence, but I find that categorization can often be misleading at first brush. The study of machine learning certainly arose from research in this context, but in the data science application of machine learning methods, it’s more helpful to think of **machine learning as a means of building models of data**.*\n",
        "\n",
        "\n",
        "*Fundamentally, **machine learning involves building mathematical models to help understand data**. “Learning” enters the fray when we give these models tunable parameters that can be adapted to observed data; in this way the program can be considered to be “learning” from the data. Once these models have been fit to previously seen data, they can be used to predict and understand aspects of newly observed data.*\n",
        "\n",
        "* Chapter 2 of *Introduction to Statistical Learning* (available free [here](http://www-bcf.usc.edu/~gareth/ISL/)) has an excellent overview of topics relating to Machine Learning.\n",
        "\n",
        "\n",
        "**Different types of Machine Learning**\n",
        "\n",
        "* *Supervised learning* is about modeling the relationship between features of data and a label associated with the data. Once this model is determined, it can be used to apply labels to new, unknown data. \n",
        "* Supervised learning can either be a *classification* task (where our labels are in discrete categories) or *regression* task (where our labels are continuous quantities). \n",
        "* *Unsupervised learning* models the features of a dataset without reference to any label. These models include tasks such as clustering and dimensionality reduction. We can use unsupervised learning rechnqiues to preprocess data prior to running supervised learning models. \n",
        "* *Semi-supervised learning* can also be used when we only have incomplete labels for our data.\n",
        "* We will cover *deep learning* on Day 2, but it can be thought of as a way of implementimg  *supervised*, *unsupervised* and *semi-supervised* learning. \n"
      ]
    },
    {
      "metadata": {
        "id": "MDCEfRksBe7D",
        "colab_type": "text"
      },
      "cell_type": "markdown",
      "source": [
        "### 1.2 Approaching an ML problem \n",
        "**Aim:** \n",
        "* To introduce an approach to tackling a machine learning problem, which we will then follow in this tutorial. \n",
        "\n",
        "---\n",
        "\n",
        "**Outline approach** \n",
        "\n",
        "* From '*Python Machine Learning*', by Sebastian Raschka (see [here](https://sebastianraschka.com/books.html) for details)\n",
        "\n",
        "![alt text](https://www.safaribooksonline.com/library/view/python-machine-learning/9781787125933/graphics/B07030_01_09.jpg)\n",
        "\n"
      ]
    },
    {
      "metadata": {
        "id": "VnPU_Nu5Ypw9",
        "colab_type": "text"
      },
      "cell_type": "markdown",
      "source": [
        "### 1.3 Introduction to the problem \n",
        "**Aim:** \n",
        "* To introduce how we might structure problem statements for machine learning problems\n",
        "* Determine how we are going to approach this problem \n",
        "\n",
        "\n",
        "---\n",
        "* A problem statement for a machine learning problem might include:\n",
        "  * a problem statement, defining the problem(s) that we are trying to solve\n",
        "  * the dataset and any other inputs we might be able to draw upon (e.g. domain knowledge)\n",
        "  * a solution statement, setting out how we intend to solve the problem using the data and other inputs available \n",
        "  * whether we have a benchmark model to compare our work against\n",
        "  * the evaluation metrics we intend to use to score our models\n",
        "  * we might also define upfront what our target variable is, what platform or hardware considerations need to be taken into account, and any risks we might have to success\n",
        "  \n",
        "* For this tutorial, we have a dataset provided, which is covered in more detail below."
      ]
    },
    {
      "metadata": {
        "id": "0iFv8xiPAEym",
        "colab_type": "text"
      },
      "cell_type": "markdown",
      "source": [
        "**Black Friday Dataset**\n",
        "* We will work on the Black Friday dataset in this article. The dataset and problem are from Kaggle\n",
        "also adapted from this [post](https://medium.com/analytics-vidhya/build-your-first-neural-network-model-on-a-structured-dataset-using-keras-d9e7de5c6724)\n",
        "* We have been provided with various information about customer demographics (age, gender, marital status, city_type, stay_in_current_city) and product details (product_id and product category). \n",
        "\n",
        "Below is the data dictionary (`Variable`          |                  *Definition*)\n",
        "\n",
        "* `User_ID`       |    *User ID*\n",
        "\n",
        "* `Product_ID` |   *Product ID*\n",
        "    \n",
        "* `Gender` |   *Sex of User*\n",
        "\n",
        "* `Age` |  *Age in bins*\n",
        "\n",
        "* `Occupation` |   *Occupation ( Masked)*\n",
        "\n",
        "* `City_Category` |    *Category of the city (A, B, C)*\n",
        "\n",
        "* `Stay_In_Current_City_Years` |  *Number of years stay in current city*\n",
        "\n",
        "* `Marital_Status` |  *Marital Status*\n",
        "\n",
        "* `Product_Category_1` |   *Product Category (Masked)*\n",
        "\n",
        "* `Product_Category_2` |  *Product may belong to other category also (Masked)*\n",
        "\n",
        "* `Product_Category_3` |  *Product  may belong to other category also (Masked)*\n",
        "\n",
        "* `Purchase` |  *Purchase Amount*\n"
      ]
    },
    {
      "metadata": {
        "id": "lqkIjlq7BswL",
        "colab_type": "text"
      },
      "cell_type": "markdown",
      "source": [
        "**EXERCISE 1.3:** Can you define the problem statement and determine the target variable? What type of machine learning problem is this?\n",
        "\n",
        "---\n",
        "\n",
        "**ANSWER:**\n",
        "\n",
        "\n",
        "\n"
      ]
    },
    {
      "metadata": {
        "id": "Nryq6GB-_srJ",
        "colab_type": "text"
      },
      "cell_type": "markdown",
      "source": [
        "### 2. Load, preprocess and split the data\n",
        "**Aim:** \n",
        "* To undersand the dataset better\n",
        "* To understand why and how we preprocess the data in preparation for it being modelled \n",
        "* To understand why and how we split the data into training and testing sets\n"
      ]
    },
    {
      "metadata": {
        "id": "5y2DGKw5E5j-",
        "colab_type": "text"
      },
      "cell_type": "markdown",
      "source": [
        "#### 2.1 Loading the data \n",
        "\n",
        "  \n"
      ]
    },
    {
      "metadata": {
        "id": "t9ALbbpmY9rm",
        "colab_type": "code",
        "colab": {}
      },
      "cell_type": "code",
      "source": [
        "import numpy as np\n",
        "import pandas as pd\n",
        "\n",
        "# Read Necessary files - because we are loading a provided dataset, we are loading both files \n",
        "fullData = pd.read_csv(\"https://raw.githubusercontent.com/dsiot/wearables/master/course/bf_train.csv\")\n",
        "\n",
        "# there is no need to load the train dataset for this tutorial \n",
        "# test = pd.read_csv(\"https://raw.githubusercontent.com/dsiot/wearables/master/course/bf_test.csv\")\n",
        "\n",
        "# and stitching it back together - we will split the data using sklearn later \n",
        "# fullData = pd.concat([train,test],axis=0)"
      ],
      "execution_count": 0,
      "outputs": []
    },
    {
      "metadata": {
        "id": "xZsHwhBrMYz3",
        "colab_type": "text"
      },
      "cell_type": "markdown",
      "source": [
        "##### Get a feel for the data "
      ]
    },
    {
      "metadata": {
        "id": "JoZituJ7McYC",
        "colab_type": "code",
        "colab": {
          "base_uri": "https://localhost:8080/",
          "height": 358
        },
        "outputId": "73e3301d-45d5-4b69-8eb6-65b3929120b0"
      },
      "cell_type": "code",
      "source": [
        "# here we can see the top n lines of the dataset:\n",
        "rows = 5\n",
        "print(\"Top {} lines of dataset:\".format(rows))\n",
        "fullData.head(rows)"
      ],
      "execution_count": 275,
      "outputs": [
        {
          "output_type": "stream",
          "text": [
            "Top 5 lines of dataset:\n"
          ],
          "name": "stdout"
        },
        {
          "output_type": "execute_result",
          "data": {
            "text/html": [
              "<div>\n",
              "<style scoped>\n",
              "    .dataframe tbody tr th:only-of-type {\n",
              "        vertical-align: middle;\n",
              "    }\n",
              "\n",
              "    .dataframe tbody tr th {\n",
              "        vertical-align: top;\n",
              "    }\n",
              "\n",
              "    .dataframe thead th {\n",
              "        text-align: right;\n",
              "    }\n",
              "</style>\n",
              "<table border=\"1\" class=\"dataframe\">\n",
              "  <thead>\n",
              "    <tr style=\"text-align: right;\">\n",
              "      <th></th>\n",
              "      <th>User_ID</th>\n",
              "      <th>Product_ID</th>\n",
              "      <th>Gender</th>\n",
              "      <th>Age</th>\n",
              "      <th>Occupation</th>\n",
              "      <th>City_Category</th>\n",
              "      <th>Stay_In_Current_City_Years</th>\n",
              "      <th>Marital_Status</th>\n",
              "      <th>Product_Category_1</th>\n",
              "      <th>Product_Category_2</th>\n",
              "      <th>Product_Category_3</th>\n",
              "      <th>Purchase</th>\n",
              "    </tr>\n",
              "  </thead>\n",
              "  <tbody>\n",
              "    <tr>\n",
              "      <th>0</th>\n",
              "      <td>1000001</td>\n",
              "      <td>P00069042</td>\n",
              "      <td>F</td>\n",
              "      <td>0-17</td>\n",
              "      <td>10</td>\n",
              "      <td>A</td>\n",
              "      <td>2</td>\n",
              "      <td>0</td>\n",
              "      <td>3</td>\n",
              "      <td>NaN</td>\n",
              "      <td>NaN</td>\n",
              "      <td>8370</td>\n",
              "    </tr>\n",
              "    <tr>\n",
              "      <th>1</th>\n",
              "      <td>1000001</td>\n",
              "      <td>P00248942</td>\n",
              "      <td>F</td>\n",
              "      <td>0-17</td>\n",
              "      <td>10</td>\n",
              "      <td>A</td>\n",
              "      <td>2</td>\n",
              "      <td>0</td>\n",
              "      <td>1</td>\n",
              "      <td>6.0</td>\n",
              "      <td>14.0</td>\n",
              "      <td>15200</td>\n",
              "    </tr>\n",
              "    <tr>\n",
              "      <th>2</th>\n",
              "      <td>1000001</td>\n",
              "      <td>P00087842</td>\n",
              "      <td>F</td>\n",
              "      <td>0-17</td>\n",
              "      <td>10</td>\n",
              "      <td>A</td>\n",
              "      <td>2</td>\n",
              "      <td>0</td>\n",
              "      <td>12</td>\n",
              "      <td>NaN</td>\n",
              "      <td>NaN</td>\n",
              "      <td>1422</td>\n",
              "    </tr>\n",
              "    <tr>\n",
              "      <th>3</th>\n",
              "      <td>1000001</td>\n",
              "      <td>P00085442</td>\n",
              "      <td>F</td>\n",
              "      <td>0-17</td>\n",
              "      <td>10</td>\n",
              "      <td>A</td>\n",
              "      <td>2</td>\n",
              "      <td>0</td>\n",
              "      <td>12</td>\n",
              "      <td>14.0</td>\n",
              "      <td>NaN</td>\n",
              "      <td>1057</td>\n",
              "    </tr>\n",
              "    <tr>\n",
              "      <th>4</th>\n",
              "      <td>1000002</td>\n",
              "      <td>P00285442</td>\n",
              "      <td>M</td>\n",
              "      <td>55+</td>\n",
              "      <td>16</td>\n",
              "      <td>C</td>\n",
              "      <td>4+</td>\n",
              "      <td>0</td>\n",
              "      <td>8</td>\n",
              "      <td>NaN</td>\n",
              "      <td>NaN</td>\n",
              "      <td>7969</td>\n",
              "    </tr>\n",
              "  </tbody>\n",
              "</table>\n",
              "</div>"
            ],
            "text/plain": [
              "   User_ID Product_ID Gender   Age  Occupation City_Category  \\\n",
              "0  1000001  P00069042      F  0-17          10             A   \n",
              "1  1000001  P00248942      F  0-17          10             A   \n",
              "2  1000001  P00087842      F  0-17          10             A   \n",
              "3  1000001  P00085442      F  0-17          10             A   \n",
              "4  1000002  P00285442      M   55+          16             C   \n",
              "\n",
              "  Stay_In_Current_City_Years  Marital_Status  Product_Category_1  \\\n",
              "0                          2               0                   3   \n",
              "1                          2               0                   1   \n",
              "2                          2               0                  12   \n",
              "3                          2               0                  12   \n",
              "4                         4+               0                   8   \n",
              "\n",
              "   Product_Category_2  Product_Category_3  Purchase  \n",
              "0                 NaN                 NaN      8370  \n",
              "1                 6.0                14.0     15200  \n",
              "2                 NaN                 NaN      1422  \n",
              "3                14.0                 NaN      1057  \n",
              "4                 NaN                 NaN      7969  "
            ]
          },
          "metadata": {
            "tags": []
          },
          "execution_count": 275
        }
      ]
    },
    {
      "metadata": {
        "id": "dQlj2wv5MLmd",
        "colab_type": "code",
        "colab": {
          "base_uri": "https://localhost:8080/",
          "height": 94
        },
        "outputId": "efb70f30-24b5-4efb-d824-6944d8196c41"
      },
      "cell_type": "code",
      "source": [
        "# lets get the shape of the data \n",
        "print('The dataset has {} entries'.format(fullData.shape[0]))\n",
        "print('The dataset has {} columns'.format(fullData.shape[1]))"
      ],
      "execution_count": 276,
      "outputs": [
        {
          "output_type": "stream",
          "text": [
            "The dataset has 550068 entries\n",
            "The dataset has 12 columns\n"
          ],
          "name": "stdout"
        }
      ]
    },
    {
      "metadata": {
        "id": "D_cVphydX9Ea",
        "colab_type": "code",
        "colab": {
          "base_uri": "https://localhost:8080/",
          "height": 288
        },
        "outputId": "d6311874-608d-4371-a749-cf87e5027e09"
      },
      "cell_type": "code",
      "source": [
        "# understand what values are missing - here we sum the null values for each column \n",
        "# isnull returns a boolean, which we sum\n",
        "fullData.isnull().sum() "
      ],
      "execution_count": 277,
      "outputs": [
        {
          "output_type": "execute_result",
          "data": {
            "text/plain": [
              "User_ID                            0\n",
              "Product_ID                         0\n",
              "Gender                             0\n",
              "Age                                0\n",
              "Occupation                         0\n",
              "City_Category                      0\n",
              "Stay_In_Current_City_Years         0\n",
              "Marital_Status                     0\n",
              "Product_Category_1                 0\n",
              "Product_Category_2            173638\n",
              "Product_Category_3            383247\n",
              "Purchase                           0\n",
              "dtype: int64"
            ]
          },
          "metadata": {
            "tags": []
          },
          "execution_count": 277
        }
      ]
    },
    {
      "metadata": {
        "id": "DqoCZ_gsVNaH",
        "colab_type": "code",
        "colab": {
          "base_uri": "https://localhost:8080/",
          "height": 306
        },
        "outputId": "b1714567-cd06-4cc7-c766-1a10317e7af9"
      },
      "cell_type": "code",
      "source": [
        "# percentage of entries per column type \n",
        "print('Percentage of Not Null Values per column/feature:')\n",
        "np.around((fullData.notnull().sum() / len(fullData)*100), decimals=1)"
      ],
      "execution_count": 278,
      "outputs": [
        {
          "output_type": "stream",
          "text": [
            "Percentage of Not Null Values per column/feature:\n"
          ],
          "name": "stdout"
        },
        {
          "output_type": "execute_result",
          "data": {
            "text/plain": [
              "User_ID                       100.0\n",
              "Product_ID                    100.0\n",
              "Gender                        100.0\n",
              "Age                           100.0\n",
              "Occupation                    100.0\n",
              "City_Category                 100.0\n",
              "Stay_In_Current_City_Years    100.0\n",
              "Marital_Status                100.0\n",
              "Product_Category_1            100.0\n",
              "Product_Category_2             68.4\n",
              "Product_Category_3             30.3\n",
              "Purchase                      100.0\n",
              "dtype: float64"
            ]
          },
          "metadata": {
            "tags": []
          },
          "execution_count": 278
        }
      ]
    },
    {
      "metadata": {
        "id": "_oAsKavc0Zws",
        "colab_type": "text"
      },
      "cell_type": "markdown",
      "source": [
        "##### Get a feel for the target variable"
      ]
    },
    {
      "metadata": {
        "id": "cV5cDgYu0dXf",
        "colab_type": "code",
        "colab": {
          "base_uri": "https://localhost:8080/",
          "height": 218
        },
        "outputId": "be8c19e3-00b4-468d-e2d7-c64be3e8643d"
      },
      "cell_type": "code",
      "source": [
        "# code regarding purchase column\n",
        "fullData['Purchase'].describe()"
      ],
      "execution_count": 279,
      "outputs": [
        {
          "output_type": "execute_result",
          "data": {
            "text/plain": [
              "count    550068.000000\n",
              "mean       9263.968713\n",
              "std        5023.065394\n",
              "min          12.000000\n",
              "25%        5823.000000\n",
              "50%        8047.000000\n",
              "75%       12054.000000\n",
              "max       23961.000000\n",
              "Name: Purchase, dtype: float64"
            ]
          },
          "metadata": {
            "tags": []
          },
          "execution_count": 279
        }
      ]
    },
    {
      "metadata": {
        "id": "mQniHMeOAX_J",
        "colab_type": "text"
      },
      "cell_type": "markdown",
      "source": [
        "**EXERCISE 2.1:** Given our exploration of the data above, do you feel confident there is suitable data to solve your problem statement? Do you have any thoughts about whether some features are better than others? \n",
        "\n",
        "---\n",
        "\n",
        "**ANSWER:**\n",
        "\n"
      ]
    },
    {
      "metadata": {
        "id": "Hhy6KT6TIjns",
        "colab_type": "text"
      },
      "cell_type": "markdown",
      "source": [
        "### 2.2 Preprocessing the data\n",
        "* We proprocess the data to ensure it is a suitable state for modelling. The sort of things that we do to preprocess the data includes:\n",
        "  * *Dealing with missing values*, where we identify what, if, any missing data we have and how to deal with it. For example, we may replace missing values with the mean value for that feature, or by the average of the neighbouring values. \n",
        "    * `pandas` has a number of options for filling in missing data that is worth exploring\n",
        "    * We can also use `k-nearest neighbour`to help us predict what the missing values should be, or `sklearn Imputer` function (amongst other ways)\n",
        "  * *Treat categorical values*, by converting them into a numerical representation that can be modelled.\n",
        "    * There are a number of different ways to do this in `sklearn` and `pandas`\n",
        "  * *Normalise the data*, for example by ensuring the data is, for example all on the scale (such as within two defined values); normally distributed; has a zero-mean, etc. This is sometimes necessary for the ML models to work, and can also help speed up the time it takes for the models to run.  \n",
        "    * Again, `sklearn` and `pandas` have in-built functions to help you do this."
      ]
    },
    {
      "metadata": {
        "id": "tD-M_cNjKaNU",
        "colab_type": "text"
      },
      "cell_type": "markdown",
      "source": [
        "#### Prepare for preprocessing"
      ]
    },
    {
      "metadata": {
        "id": "cz-EyuZkfL44",
        "colab_type": "code",
        "colab": {
          "base_uri": "https://localhost:8080/",
          "height": 110
        },
        "outputId": "329bb5b2-7fe1-4be7-d903-42f368e7c044"
      },
      "cell_type": "code",
      "source": [
        "# create a new version of dataset\n",
        "fullData_preprocessed = fullData.copy()\n",
        "\n",
        "# check that all is well\n",
        "print(\"Check that the copy dataset has the same shape:\")\n",
        "print('The dataset copy has {} entries'.format(fullData.shape[0]))\n",
        "print('The dataset copy has {} columns'.format(fullData.shape[1]))"
      ],
      "execution_count": 280,
      "outputs": [
        {
          "output_type": "stream",
          "text": [
            "Check that the copy dataset has the same shape:\n",
            "The dataset copy has 550068 entries\n",
            "The dataset copy has 12 columns\n"
          ],
          "name": "stdout"
        }
      ]
    },
    {
      "metadata": {
        "id": "ahLw72fYAYFl",
        "colab_type": "code",
        "colab": {}
      },
      "cell_type": "code",
      "source": [
        "#Identifying ID, Categorical, and numerical data, which we will treat differently \n",
        "ID_col = ['User_ID','Product_ID']\n",
        "cat_cols= ['Gender','Age','City_Category','Stay_In_Current_City_Years']\n",
        "num_cols= ['Marital_Status','Occupation','Product_Category_1','Product_Category_2','Product_Category_3']\n",
        "\n",
        "# Combined numerical and Categorical variables\n",
        "num_cat_cols = num_cols+cat_cols"
      ],
      "execution_count": 0,
      "outputs": []
    },
    {
      "metadata": {
        "id": "kqdErGmqAlUU",
        "colab_type": "text"
      },
      "cell_type": "markdown",
      "source": [
        "#### Dealing with Missing Values"
      ]
    },
    {
      "metadata": {
        "id": "suj30jCQKj_a",
        "colab_type": "code",
        "colab": {
          "base_uri": "https://localhost:8080/",
          "height": 406
        },
        "outputId": "f51a37d1-ad75-4ca3-d27d-4040b142c003"
      },
      "cell_type": "code",
      "source": [
        "# Look at data before\n",
        "fullData_preprocessed[num_cols][0:10]"
      ],
      "execution_count": 282,
      "outputs": [
        {
          "output_type": "execute_result",
          "data": {
            "text/html": [
              "<div>\n",
              "<style scoped>\n",
              "    .dataframe tbody tr th:only-of-type {\n",
              "        vertical-align: middle;\n",
              "    }\n",
              "\n",
              "    .dataframe tbody tr th {\n",
              "        vertical-align: top;\n",
              "    }\n",
              "\n",
              "    .dataframe thead th {\n",
              "        text-align: right;\n",
              "    }\n",
              "</style>\n",
              "<table border=\"1\" class=\"dataframe\">\n",
              "  <thead>\n",
              "    <tr style=\"text-align: right;\">\n",
              "      <th></th>\n",
              "      <th>Marital_Status</th>\n",
              "      <th>Occupation</th>\n",
              "      <th>Product_Category_1</th>\n",
              "      <th>Product_Category_2</th>\n",
              "      <th>Product_Category_3</th>\n",
              "    </tr>\n",
              "  </thead>\n",
              "  <tbody>\n",
              "    <tr>\n",
              "      <th>0</th>\n",
              "      <td>0</td>\n",
              "      <td>10</td>\n",
              "      <td>3</td>\n",
              "      <td>NaN</td>\n",
              "      <td>NaN</td>\n",
              "    </tr>\n",
              "    <tr>\n",
              "      <th>1</th>\n",
              "      <td>0</td>\n",
              "      <td>10</td>\n",
              "      <td>1</td>\n",
              "      <td>6.0</td>\n",
              "      <td>14.0</td>\n",
              "    </tr>\n",
              "    <tr>\n",
              "      <th>2</th>\n",
              "      <td>0</td>\n",
              "      <td>10</td>\n",
              "      <td>12</td>\n",
              "      <td>NaN</td>\n",
              "      <td>NaN</td>\n",
              "    </tr>\n",
              "    <tr>\n",
              "      <th>3</th>\n",
              "      <td>0</td>\n",
              "      <td>10</td>\n",
              "      <td>12</td>\n",
              "      <td>14.0</td>\n",
              "      <td>NaN</td>\n",
              "    </tr>\n",
              "    <tr>\n",
              "      <th>4</th>\n",
              "      <td>0</td>\n",
              "      <td>16</td>\n",
              "      <td>8</td>\n",
              "      <td>NaN</td>\n",
              "      <td>NaN</td>\n",
              "    </tr>\n",
              "    <tr>\n",
              "      <th>5</th>\n",
              "      <td>0</td>\n",
              "      <td>15</td>\n",
              "      <td>1</td>\n",
              "      <td>2.0</td>\n",
              "      <td>NaN</td>\n",
              "    </tr>\n",
              "    <tr>\n",
              "      <th>6</th>\n",
              "      <td>1</td>\n",
              "      <td>7</td>\n",
              "      <td>1</td>\n",
              "      <td>8.0</td>\n",
              "      <td>17.0</td>\n",
              "    </tr>\n",
              "    <tr>\n",
              "      <th>7</th>\n",
              "      <td>1</td>\n",
              "      <td>7</td>\n",
              "      <td>1</td>\n",
              "      <td>15.0</td>\n",
              "      <td>NaN</td>\n",
              "    </tr>\n",
              "    <tr>\n",
              "      <th>8</th>\n",
              "      <td>1</td>\n",
              "      <td>7</td>\n",
              "      <td>1</td>\n",
              "      <td>16.0</td>\n",
              "      <td>NaN</td>\n",
              "    </tr>\n",
              "    <tr>\n",
              "      <th>9</th>\n",
              "      <td>1</td>\n",
              "      <td>20</td>\n",
              "      <td>8</td>\n",
              "      <td>NaN</td>\n",
              "      <td>NaN</td>\n",
              "    </tr>\n",
              "  </tbody>\n",
              "</table>\n",
              "</div>"
            ],
            "text/plain": [
              "   Marital_Status  Occupation  Product_Category_1  Product_Category_2  \\\n",
              "0               0          10                   3                 NaN   \n",
              "1               0          10                   1                 6.0   \n",
              "2               0          10                  12                 NaN   \n",
              "3               0          10                  12                14.0   \n",
              "4               0          16                   8                 NaN   \n",
              "5               0          15                   1                 2.0   \n",
              "6               1           7                   1                 8.0   \n",
              "7               1           7                   1                15.0   \n",
              "8               1           7                   1                16.0   \n",
              "9               1          20                   8                 NaN   \n",
              "\n",
              "   Product_Category_3  \n",
              "0                 NaN  \n",
              "1                14.0  \n",
              "2                 NaN  \n",
              "3                 NaN  \n",
              "4                 NaN  \n",
              "5                 NaN  \n",
              "6                17.0  \n",
              "7                 NaN  \n",
              "8                 NaN  \n",
              "9                 NaN  "
            ]
          },
          "metadata": {
            "tags": []
          },
          "execution_count": 282
        }
      ]
    },
    {
      "metadata": {
        "id": "Fd3dK7hxWRMh",
        "colab_type": "code",
        "colab": {}
      },
      "cell_type": "code",
      "source": [
        "# Impute numerical missing values with mean\n",
        "fullData_preprocessed[num_cols] = fullData_preprocessed[num_cols].fillna(fullData[num_cols].mean())"
      ],
      "execution_count": 0,
      "outputs": []
    },
    {
      "metadata": {
        "id": "6PgEmWvQYOBj",
        "colab_type": "code",
        "colab": {
          "base_uri": "https://localhost:8080/",
          "height": 406
        },
        "outputId": "978b5f61-bef4-4676-d2bc-ea57c94c7a65"
      },
      "cell_type": "code",
      "source": [
        "# Look at what we have done\n",
        "fullData_preprocessed[num_cols][0:10]"
      ],
      "execution_count": 284,
      "outputs": [
        {
          "output_type": "execute_result",
          "data": {
            "text/html": [
              "<div>\n",
              "<style scoped>\n",
              "    .dataframe tbody tr th:only-of-type {\n",
              "        vertical-align: middle;\n",
              "    }\n",
              "\n",
              "    .dataframe tbody tr th {\n",
              "        vertical-align: top;\n",
              "    }\n",
              "\n",
              "    .dataframe thead th {\n",
              "        text-align: right;\n",
              "    }\n",
              "</style>\n",
              "<table border=\"1\" class=\"dataframe\">\n",
              "  <thead>\n",
              "    <tr style=\"text-align: right;\">\n",
              "      <th></th>\n",
              "      <th>Marital_Status</th>\n",
              "      <th>Occupation</th>\n",
              "      <th>Product_Category_1</th>\n",
              "      <th>Product_Category_2</th>\n",
              "      <th>Product_Category_3</th>\n",
              "    </tr>\n",
              "  </thead>\n",
              "  <tbody>\n",
              "    <tr>\n",
              "      <th>0</th>\n",
              "      <td>0</td>\n",
              "      <td>10</td>\n",
              "      <td>3</td>\n",
              "      <td>9.842329</td>\n",
              "      <td>12.668243</td>\n",
              "    </tr>\n",
              "    <tr>\n",
              "      <th>1</th>\n",
              "      <td>0</td>\n",
              "      <td>10</td>\n",
              "      <td>1</td>\n",
              "      <td>6.000000</td>\n",
              "      <td>14.000000</td>\n",
              "    </tr>\n",
              "    <tr>\n",
              "      <th>2</th>\n",
              "      <td>0</td>\n",
              "      <td>10</td>\n",
              "      <td>12</td>\n",
              "      <td>9.842329</td>\n",
              "      <td>12.668243</td>\n",
              "    </tr>\n",
              "    <tr>\n",
              "      <th>3</th>\n",
              "      <td>0</td>\n",
              "      <td>10</td>\n",
              "      <td>12</td>\n",
              "      <td>14.000000</td>\n",
              "      <td>12.668243</td>\n",
              "    </tr>\n",
              "    <tr>\n",
              "      <th>4</th>\n",
              "      <td>0</td>\n",
              "      <td>16</td>\n",
              "      <td>8</td>\n",
              "      <td>9.842329</td>\n",
              "      <td>12.668243</td>\n",
              "    </tr>\n",
              "    <tr>\n",
              "      <th>5</th>\n",
              "      <td>0</td>\n",
              "      <td>15</td>\n",
              "      <td>1</td>\n",
              "      <td>2.000000</td>\n",
              "      <td>12.668243</td>\n",
              "    </tr>\n",
              "    <tr>\n",
              "      <th>6</th>\n",
              "      <td>1</td>\n",
              "      <td>7</td>\n",
              "      <td>1</td>\n",
              "      <td>8.000000</td>\n",
              "      <td>17.000000</td>\n",
              "    </tr>\n",
              "    <tr>\n",
              "      <th>7</th>\n",
              "      <td>1</td>\n",
              "      <td>7</td>\n",
              "      <td>1</td>\n",
              "      <td>15.000000</td>\n",
              "      <td>12.668243</td>\n",
              "    </tr>\n",
              "    <tr>\n",
              "      <th>8</th>\n",
              "      <td>1</td>\n",
              "      <td>7</td>\n",
              "      <td>1</td>\n",
              "      <td>16.000000</td>\n",
              "      <td>12.668243</td>\n",
              "    </tr>\n",
              "    <tr>\n",
              "      <th>9</th>\n",
              "      <td>1</td>\n",
              "      <td>20</td>\n",
              "      <td>8</td>\n",
              "      <td>9.842329</td>\n",
              "      <td>12.668243</td>\n",
              "    </tr>\n",
              "  </tbody>\n",
              "</table>\n",
              "</div>"
            ],
            "text/plain": [
              "   Marital_Status  Occupation  Product_Category_1  Product_Category_2  \\\n",
              "0               0          10                   3            9.842329   \n",
              "1               0          10                   1            6.000000   \n",
              "2               0          10                  12            9.842329   \n",
              "3               0          10                  12           14.000000   \n",
              "4               0          16                   8            9.842329   \n",
              "5               0          15                   1            2.000000   \n",
              "6               1           7                   1            8.000000   \n",
              "7               1           7                   1           15.000000   \n",
              "8               1           7                   1           16.000000   \n",
              "9               1          20                   8            9.842329   \n",
              "\n",
              "   Product_Category_3  \n",
              "0           12.668243  \n",
              "1           14.000000  \n",
              "2           12.668243  \n",
              "3           12.668243  \n",
              "4           12.668243  \n",
              "5           12.668243  \n",
              "6           17.000000  \n",
              "7           12.668243  \n",
              "8           12.668243  \n",
              "9           12.668243  "
            ]
          },
          "metadata": {
            "tags": []
          },
          "execution_count": 284
        }
      ]
    },
    {
      "metadata": {
        "id": "ZyO94eIDa5H5",
        "colab_type": "text"
      },
      "cell_type": "markdown",
      "source": [
        "**EXERCISE:** What are the advantages and disadvanatges of the methods used here to deal with missing data? Are you aware of other approaches that might be better suited to this dataset?\n",
        "\n",
        "---\n",
        "\n",
        "**ANSWER:**\n",
        "\n"
      ]
    },
    {
      "metadata": {
        "id": "8CLL_1HkBNbF",
        "colab_type": "text"
      },
      "cell_type": "markdown",
      "source": [
        "#### Normalise the data"
      ]
    },
    {
      "metadata": {
        "id": "oFQIvuvdBMkO",
        "colab_type": "code",
        "colab": {}
      },
      "cell_type": "code",
      "source": [
        "## again, not sure we need this - run model without this and see what happens. then we can move this to DL section\n",
        "## why dont we normalise the purchase value? do we need to for DL?\n",
        "fullData_preprocessed[num_cols] = fullData_preprocessed[num_cols]/fullData_preprocessed[num_cols].max()"
      ],
      "execution_count": 0,
      "outputs": []
    },
    {
      "metadata": {
        "id": "b1AHUzxaT4qd",
        "colab_type": "code",
        "colab": {
          "base_uri": "https://localhost:8080/",
          "height": 406
        },
        "outputId": "c2591013-beb2-4893-f3e7-c1b52886cc13"
      },
      "cell_type": "code",
      "source": [
        "fullData_preprocessed[num_cols][0:10]"
      ],
      "execution_count": 286,
      "outputs": [
        {
          "output_type": "execute_result",
          "data": {
            "text/html": [
              "<div>\n",
              "<style scoped>\n",
              "    .dataframe tbody tr th:only-of-type {\n",
              "        vertical-align: middle;\n",
              "    }\n",
              "\n",
              "    .dataframe tbody tr th {\n",
              "        vertical-align: top;\n",
              "    }\n",
              "\n",
              "    .dataframe thead th {\n",
              "        text-align: right;\n",
              "    }\n",
              "</style>\n",
              "<table border=\"1\" class=\"dataframe\">\n",
              "  <thead>\n",
              "    <tr style=\"text-align: right;\">\n",
              "      <th></th>\n",
              "      <th>Marital_Status</th>\n",
              "      <th>Occupation</th>\n",
              "      <th>Product_Category_1</th>\n",
              "      <th>Product_Category_2</th>\n",
              "      <th>Product_Category_3</th>\n",
              "    </tr>\n",
              "  </thead>\n",
              "  <tbody>\n",
              "    <tr>\n",
              "      <th>0</th>\n",
              "      <td>0.0</td>\n",
              "      <td>0.50</td>\n",
              "      <td>0.15</td>\n",
              "      <td>0.546796</td>\n",
              "      <td>0.703791</td>\n",
              "    </tr>\n",
              "    <tr>\n",
              "      <th>1</th>\n",
              "      <td>0.0</td>\n",
              "      <td>0.50</td>\n",
              "      <td>0.05</td>\n",
              "      <td>0.333333</td>\n",
              "      <td>0.777778</td>\n",
              "    </tr>\n",
              "    <tr>\n",
              "      <th>2</th>\n",
              "      <td>0.0</td>\n",
              "      <td>0.50</td>\n",
              "      <td>0.60</td>\n",
              "      <td>0.546796</td>\n",
              "      <td>0.703791</td>\n",
              "    </tr>\n",
              "    <tr>\n",
              "      <th>3</th>\n",
              "      <td>0.0</td>\n",
              "      <td>0.50</td>\n",
              "      <td>0.60</td>\n",
              "      <td>0.777778</td>\n",
              "      <td>0.703791</td>\n",
              "    </tr>\n",
              "    <tr>\n",
              "      <th>4</th>\n",
              "      <td>0.0</td>\n",
              "      <td>0.80</td>\n",
              "      <td>0.40</td>\n",
              "      <td>0.546796</td>\n",
              "      <td>0.703791</td>\n",
              "    </tr>\n",
              "    <tr>\n",
              "      <th>5</th>\n",
              "      <td>0.0</td>\n",
              "      <td>0.75</td>\n",
              "      <td>0.05</td>\n",
              "      <td>0.111111</td>\n",
              "      <td>0.703791</td>\n",
              "    </tr>\n",
              "    <tr>\n",
              "      <th>6</th>\n",
              "      <td>1.0</td>\n",
              "      <td>0.35</td>\n",
              "      <td>0.05</td>\n",
              "      <td>0.444444</td>\n",
              "      <td>0.944444</td>\n",
              "    </tr>\n",
              "    <tr>\n",
              "      <th>7</th>\n",
              "      <td>1.0</td>\n",
              "      <td>0.35</td>\n",
              "      <td>0.05</td>\n",
              "      <td>0.833333</td>\n",
              "      <td>0.703791</td>\n",
              "    </tr>\n",
              "    <tr>\n",
              "      <th>8</th>\n",
              "      <td>1.0</td>\n",
              "      <td>0.35</td>\n",
              "      <td>0.05</td>\n",
              "      <td>0.888889</td>\n",
              "      <td>0.703791</td>\n",
              "    </tr>\n",
              "    <tr>\n",
              "      <th>9</th>\n",
              "      <td>1.0</td>\n",
              "      <td>1.00</td>\n",
              "      <td>0.40</td>\n",
              "      <td>0.546796</td>\n",
              "      <td>0.703791</td>\n",
              "    </tr>\n",
              "  </tbody>\n",
              "</table>\n",
              "</div>"
            ],
            "text/plain": [
              "   Marital_Status  Occupation  Product_Category_1  Product_Category_2  \\\n",
              "0             0.0        0.50                0.15            0.546796   \n",
              "1             0.0        0.50                0.05            0.333333   \n",
              "2             0.0        0.50                0.60            0.546796   \n",
              "3             0.0        0.50                0.60            0.777778   \n",
              "4             0.0        0.80                0.40            0.546796   \n",
              "5             0.0        0.75                0.05            0.111111   \n",
              "6             1.0        0.35                0.05            0.444444   \n",
              "7             1.0        0.35                0.05            0.833333   \n",
              "8             1.0        0.35                0.05            0.888889   \n",
              "9             1.0        1.00                0.40            0.546796   \n",
              "\n",
              "   Product_Category_3  \n",
              "0            0.703791  \n",
              "1            0.777778  \n",
              "2            0.703791  \n",
              "3            0.703791  \n",
              "4            0.703791  \n",
              "5            0.703791  \n",
              "6            0.944444  \n",
              "7            0.703791  \n",
              "8            0.703791  \n",
              "9            0.703791  "
            ]
          },
          "metadata": {
            "tags": []
          },
          "execution_count": 286
        }
      ]
    },
    {
      "metadata": {
        "id": "UDOBDTaiA53B",
        "colab_type": "text"
      },
      "cell_type": "markdown",
      "source": [
        "#### Treat Categorical Values"
      ]
    },
    {
      "metadata": {
        "id": "2A_q_AxALVUx",
        "colab_type": "code",
        "colab": {
          "base_uri": "https://localhost:8080/",
          "height": 406
        },
        "outputId": "7ae07912-8efc-4dea-9a53-f24ebe548c8e"
      },
      "cell_type": "code",
      "source": [
        "# see dataset after treating categorical variables\n",
        "fullData_preprocessed[cat_cols][0:10]"
      ],
      "execution_count": 287,
      "outputs": [
        {
          "output_type": "execute_result",
          "data": {
            "text/html": [
              "<div>\n",
              "<style scoped>\n",
              "    .dataframe tbody tr th:only-of-type {\n",
              "        vertical-align: middle;\n",
              "    }\n",
              "\n",
              "    .dataframe tbody tr th {\n",
              "        vertical-align: top;\n",
              "    }\n",
              "\n",
              "    .dataframe thead th {\n",
              "        text-align: right;\n",
              "    }\n",
              "</style>\n",
              "<table border=\"1\" class=\"dataframe\">\n",
              "  <thead>\n",
              "    <tr style=\"text-align: right;\">\n",
              "      <th></th>\n",
              "      <th>Gender</th>\n",
              "      <th>Age</th>\n",
              "      <th>City_Category</th>\n",
              "      <th>Stay_In_Current_City_Years</th>\n",
              "    </tr>\n",
              "  </thead>\n",
              "  <tbody>\n",
              "    <tr>\n",
              "      <th>0</th>\n",
              "      <td>F</td>\n",
              "      <td>0-17</td>\n",
              "      <td>A</td>\n",
              "      <td>2</td>\n",
              "    </tr>\n",
              "    <tr>\n",
              "      <th>1</th>\n",
              "      <td>F</td>\n",
              "      <td>0-17</td>\n",
              "      <td>A</td>\n",
              "      <td>2</td>\n",
              "    </tr>\n",
              "    <tr>\n",
              "      <th>2</th>\n",
              "      <td>F</td>\n",
              "      <td>0-17</td>\n",
              "      <td>A</td>\n",
              "      <td>2</td>\n",
              "    </tr>\n",
              "    <tr>\n",
              "      <th>3</th>\n",
              "      <td>F</td>\n",
              "      <td>0-17</td>\n",
              "      <td>A</td>\n",
              "      <td>2</td>\n",
              "    </tr>\n",
              "    <tr>\n",
              "      <th>4</th>\n",
              "      <td>M</td>\n",
              "      <td>55+</td>\n",
              "      <td>C</td>\n",
              "      <td>4+</td>\n",
              "    </tr>\n",
              "    <tr>\n",
              "      <th>5</th>\n",
              "      <td>M</td>\n",
              "      <td>26-35</td>\n",
              "      <td>A</td>\n",
              "      <td>3</td>\n",
              "    </tr>\n",
              "    <tr>\n",
              "      <th>6</th>\n",
              "      <td>M</td>\n",
              "      <td>46-50</td>\n",
              "      <td>B</td>\n",
              "      <td>2</td>\n",
              "    </tr>\n",
              "    <tr>\n",
              "      <th>7</th>\n",
              "      <td>M</td>\n",
              "      <td>46-50</td>\n",
              "      <td>B</td>\n",
              "      <td>2</td>\n",
              "    </tr>\n",
              "    <tr>\n",
              "      <th>8</th>\n",
              "      <td>M</td>\n",
              "      <td>46-50</td>\n",
              "      <td>B</td>\n",
              "      <td>2</td>\n",
              "    </tr>\n",
              "    <tr>\n",
              "      <th>9</th>\n",
              "      <td>M</td>\n",
              "      <td>26-35</td>\n",
              "      <td>A</td>\n",
              "      <td>1</td>\n",
              "    </tr>\n",
              "  </tbody>\n",
              "</table>\n",
              "</div>"
            ],
            "text/plain": [
              "  Gender    Age City_Category Stay_In_Current_City_Years\n",
              "0      F   0-17             A                          2\n",
              "1      F   0-17             A                          2\n",
              "2      F   0-17             A                          2\n",
              "3      F   0-17             A                          2\n",
              "4      M    55+             C                         4+\n",
              "5      M  26-35             A                          3\n",
              "6      M  46-50             B                          2\n",
              "7      M  46-50             B                          2\n",
              "8      M  46-50             B                          2\n",
              "9      M  26-35             A                          1"
            ]
          },
          "metadata": {
            "tags": []
          },
          "execution_count": 287
        }
      ]
    },
    {
      "metadata": {
        "id": "Bf9gH7fRA1ZP",
        "colab_type": "code",
        "colab": {}
      },
      "cell_type": "code",
      "source": [
        "#use label encoders for categorical features\n",
        "from sklearn.preprocessing import LabelEncoder\n",
        "\n",
        "for col in cat_cols:\n",
        "    # Encode labels with value between 0 and n_classes-1 \n",
        "    number = LabelEncoder()\n",
        "    # fit_transform fit label encoder and return encoded labels. Here we updated the cat_cols with the new labels\n",
        "    fullData_preprocessed[col] = number.fit_transform(fullData_preprocessed[col])#.astype('str'))"
      ],
      "execution_count": 0,
      "outputs": []
    },
    {
      "metadata": {
        "id": "u5ZiwJ4OTtCF",
        "colab_type": "code",
        "colab": {
          "base_uri": "https://localhost:8080/",
          "height": 406
        },
        "outputId": "3610e62d-c692-4f24-846e-ad9f29774371"
      },
      "cell_type": "code",
      "source": [
        "# see dataset after treating categorical variables\n",
        "fullData_preprocessed[cat_cols][0:10]"
      ],
      "execution_count": 289,
      "outputs": [
        {
          "output_type": "execute_result",
          "data": {
            "text/html": [
              "<div>\n",
              "<style scoped>\n",
              "    .dataframe tbody tr th:only-of-type {\n",
              "        vertical-align: middle;\n",
              "    }\n",
              "\n",
              "    .dataframe tbody tr th {\n",
              "        vertical-align: top;\n",
              "    }\n",
              "\n",
              "    .dataframe thead th {\n",
              "        text-align: right;\n",
              "    }\n",
              "</style>\n",
              "<table border=\"1\" class=\"dataframe\">\n",
              "  <thead>\n",
              "    <tr style=\"text-align: right;\">\n",
              "      <th></th>\n",
              "      <th>Gender</th>\n",
              "      <th>Age</th>\n",
              "      <th>City_Category</th>\n",
              "      <th>Stay_In_Current_City_Years</th>\n",
              "    </tr>\n",
              "  </thead>\n",
              "  <tbody>\n",
              "    <tr>\n",
              "      <th>0</th>\n",
              "      <td>0</td>\n",
              "      <td>0</td>\n",
              "      <td>0</td>\n",
              "      <td>2</td>\n",
              "    </tr>\n",
              "    <tr>\n",
              "      <th>1</th>\n",
              "      <td>0</td>\n",
              "      <td>0</td>\n",
              "      <td>0</td>\n",
              "      <td>2</td>\n",
              "    </tr>\n",
              "    <tr>\n",
              "      <th>2</th>\n",
              "      <td>0</td>\n",
              "      <td>0</td>\n",
              "      <td>0</td>\n",
              "      <td>2</td>\n",
              "    </tr>\n",
              "    <tr>\n",
              "      <th>3</th>\n",
              "      <td>0</td>\n",
              "      <td>0</td>\n",
              "      <td>0</td>\n",
              "      <td>2</td>\n",
              "    </tr>\n",
              "    <tr>\n",
              "      <th>4</th>\n",
              "      <td>1</td>\n",
              "      <td>6</td>\n",
              "      <td>2</td>\n",
              "      <td>4</td>\n",
              "    </tr>\n",
              "    <tr>\n",
              "      <th>5</th>\n",
              "      <td>1</td>\n",
              "      <td>2</td>\n",
              "      <td>0</td>\n",
              "      <td>3</td>\n",
              "    </tr>\n",
              "    <tr>\n",
              "      <th>6</th>\n",
              "      <td>1</td>\n",
              "      <td>4</td>\n",
              "      <td>1</td>\n",
              "      <td>2</td>\n",
              "    </tr>\n",
              "    <tr>\n",
              "      <th>7</th>\n",
              "      <td>1</td>\n",
              "      <td>4</td>\n",
              "      <td>1</td>\n",
              "      <td>2</td>\n",
              "    </tr>\n",
              "    <tr>\n",
              "      <th>8</th>\n",
              "      <td>1</td>\n",
              "      <td>4</td>\n",
              "      <td>1</td>\n",
              "      <td>2</td>\n",
              "    </tr>\n",
              "    <tr>\n",
              "      <th>9</th>\n",
              "      <td>1</td>\n",
              "      <td>2</td>\n",
              "      <td>0</td>\n",
              "      <td>1</td>\n",
              "    </tr>\n",
              "  </tbody>\n",
              "</table>\n",
              "</div>"
            ],
            "text/plain": [
              "   Gender  Age  City_Category  Stay_In_Current_City_Years\n",
              "0       0    0              0                           2\n",
              "1       0    0              0                           2\n",
              "2       0    0              0                           2\n",
              "3       0    0              0                           2\n",
              "4       1    6              2                           4\n",
              "5       1    2              0                           3\n",
              "6       1    4              1                           2\n",
              "7       1    4              1                           2\n",
              "8       1    4              1                           2\n",
              "9       1    2              0                           1"
            ]
          },
          "metadata": {
            "tags": []
          },
          "execution_count": 289
        }
      ]
    },
    {
      "metadata": {
        "id": "G7uaHU5HgJXG",
        "colab_type": "text"
      },
      "cell_type": "markdown",
      "source": [
        "#### Take a view of dataset after preprocessing"
      ]
    },
    {
      "metadata": {
        "id": "-n24k8nRUNoR",
        "colab_type": "code",
        "colab": {
          "base_uri": "https://localhost:8080/",
          "height": 268
        },
        "outputId": "c8afd0f2-0451-45e4-d77a-785d588377d3"
      },
      "cell_type": "code",
      "source": [
        "fullData_preprocessed.head()"
      ],
      "execution_count": 290,
      "outputs": [
        {
          "output_type": "execute_result",
          "data": {
            "text/html": [
              "<div>\n",
              "<style scoped>\n",
              "    .dataframe tbody tr th:only-of-type {\n",
              "        vertical-align: middle;\n",
              "    }\n",
              "\n",
              "    .dataframe tbody tr th {\n",
              "        vertical-align: top;\n",
              "    }\n",
              "\n",
              "    .dataframe thead th {\n",
              "        text-align: right;\n",
              "    }\n",
              "</style>\n",
              "<table border=\"1\" class=\"dataframe\">\n",
              "  <thead>\n",
              "    <tr style=\"text-align: right;\">\n",
              "      <th></th>\n",
              "      <th>User_ID</th>\n",
              "      <th>Product_ID</th>\n",
              "      <th>Gender</th>\n",
              "      <th>Age</th>\n",
              "      <th>Occupation</th>\n",
              "      <th>City_Category</th>\n",
              "      <th>Stay_In_Current_City_Years</th>\n",
              "      <th>Marital_Status</th>\n",
              "      <th>Product_Category_1</th>\n",
              "      <th>Product_Category_2</th>\n",
              "      <th>Product_Category_3</th>\n",
              "      <th>Purchase</th>\n",
              "    </tr>\n",
              "  </thead>\n",
              "  <tbody>\n",
              "    <tr>\n",
              "      <th>0</th>\n",
              "      <td>1000001</td>\n",
              "      <td>P00069042</td>\n",
              "      <td>0</td>\n",
              "      <td>0</td>\n",
              "      <td>0.5</td>\n",
              "      <td>0</td>\n",
              "      <td>2</td>\n",
              "      <td>0.0</td>\n",
              "      <td>0.15</td>\n",
              "      <td>0.546796</td>\n",
              "      <td>0.703791</td>\n",
              "      <td>8370</td>\n",
              "    </tr>\n",
              "    <tr>\n",
              "      <th>1</th>\n",
              "      <td>1000001</td>\n",
              "      <td>P00248942</td>\n",
              "      <td>0</td>\n",
              "      <td>0</td>\n",
              "      <td>0.5</td>\n",
              "      <td>0</td>\n",
              "      <td>2</td>\n",
              "      <td>0.0</td>\n",
              "      <td>0.05</td>\n",
              "      <td>0.333333</td>\n",
              "      <td>0.777778</td>\n",
              "      <td>15200</td>\n",
              "    </tr>\n",
              "    <tr>\n",
              "      <th>2</th>\n",
              "      <td>1000001</td>\n",
              "      <td>P00087842</td>\n",
              "      <td>0</td>\n",
              "      <td>0</td>\n",
              "      <td>0.5</td>\n",
              "      <td>0</td>\n",
              "      <td>2</td>\n",
              "      <td>0.0</td>\n",
              "      <td>0.60</td>\n",
              "      <td>0.546796</td>\n",
              "      <td>0.703791</td>\n",
              "      <td>1422</td>\n",
              "    </tr>\n",
              "    <tr>\n",
              "      <th>3</th>\n",
              "      <td>1000001</td>\n",
              "      <td>P00085442</td>\n",
              "      <td>0</td>\n",
              "      <td>0</td>\n",
              "      <td>0.5</td>\n",
              "      <td>0</td>\n",
              "      <td>2</td>\n",
              "      <td>0.0</td>\n",
              "      <td>0.60</td>\n",
              "      <td>0.777778</td>\n",
              "      <td>0.703791</td>\n",
              "      <td>1057</td>\n",
              "    </tr>\n",
              "    <tr>\n",
              "      <th>4</th>\n",
              "      <td>1000002</td>\n",
              "      <td>P00285442</td>\n",
              "      <td>1</td>\n",
              "      <td>6</td>\n",
              "      <td>0.8</td>\n",
              "      <td>2</td>\n",
              "      <td>4</td>\n",
              "      <td>0.0</td>\n",
              "      <td>0.40</td>\n",
              "      <td>0.546796</td>\n",
              "      <td>0.703791</td>\n",
              "      <td>7969</td>\n",
              "    </tr>\n",
              "  </tbody>\n",
              "</table>\n",
              "</div>"
            ],
            "text/plain": [
              "   User_ID Product_ID  Gender  Age  Occupation  City_Category  \\\n",
              "0  1000001  P00069042       0    0         0.5              0   \n",
              "1  1000001  P00248942       0    0         0.5              0   \n",
              "2  1000001  P00087842       0    0         0.5              0   \n",
              "3  1000001  P00085442       0    0         0.5              0   \n",
              "4  1000002  P00285442       1    6         0.8              2   \n",
              "\n",
              "   Stay_In_Current_City_Years  Marital_Status  Product_Category_1  \\\n",
              "0                           2             0.0                0.15   \n",
              "1                           2             0.0                0.05   \n",
              "2                           2             0.0                0.60   \n",
              "3                           2             0.0                0.60   \n",
              "4                           4             0.0                0.40   \n",
              "\n",
              "   Product_Category_2  Product_Category_3  Purchase  \n",
              "0            0.546796            0.703791      8370  \n",
              "1            0.333333            0.777778     15200  \n",
              "2            0.546796            0.703791      1422  \n",
              "3            0.777778            0.703791      1057  \n",
              "4            0.546796            0.703791      7969  "
            ]
          },
          "metadata": {
            "tags": []
          },
          "execution_count": 290
        }
      ]
    },
    {
      "metadata": {
        "id": "AW2ObG48VUlB",
        "colab_type": "code",
        "colab": {
          "base_uri": "https://localhost:8080/",
          "height": 306
        },
        "outputId": "c67b7e30-cc75-46fd-f041-c2ddf575715b"
      },
      "cell_type": "code",
      "source": [
        "# percentage of entries per column type \n",
        "print('Percentage of Not Null Values per column/feature after preprocessing:')\n",
        "np.around((fullData_preprocessed.notnull().sum() / len(fullData_preprocessed)*100), decimals=1)"
      ],
      "execution_count": 291,
      "outputs": [
        {
          "output_type": "stream",
          "text": [
            "Percentage of Not Null Values per column/feature after preprocessing:\n"
          ],
          "name": "stdout"
        },
        {
          "output_type": "execute_result",
          "data": {
            "text/plain": [
              "User_ID                       100.0\n",
              "Product_ID                    100.0\n",
              "Gender                        100.0\n",
              "Age                           100.0\n",
              "Occupation                    100.0\n",
              "City_Category                 100.0\n",
              "Stay_In_Current_City_Years    100.0\n",
              "Marital_Status                100.0\n",
              "Product_Category_1            100.0\n",
              "Product_Category_2            100.0\n",
              "Product_Category_3            100.0\n",
              "Purchase                      100.0\n",
              "dtype: float64"
            ]
          },
          "metadata": {
            "tags": []
          },
          "execution_count": 291
        }
      ]
    },
    {
      "metadata": {
        "id": "K8LrxGdT0pFp",
        "colab_type": "code",
        "colab": {}
      },
      "cell_type": "code",
      "source": [
        "# and finally, we need to drop redudant ID columns\n",
        "fullData_preprocessed = fullData_preprocessed.drop(ID_col,axis=1)"
      ],
      "execution_count": 0,
      "outputs": []
    },
    {
      "metadata": {
        "id": "rxweZ_pCxxa5",
        "colab_type": "code",
        "colab": {
          "base_uri": "https://localhost:8080/",
          "height": 252
        },
        "outputId": "99653eb3-9d33-45aa-f905-97e65fd12bc3"
      },
      "cell_type": "code",
      "source": [
        "# and a check on the different datatypes we now have \n",
        "fullData_preprocessed.dtypes"
      ],
      "execution_count": 293,
      "outputs": [
        {
          "output_type": "execute_result",
          "data": {
            "text/plain": [
              "Gender                          int64\n",
              "Age                             int64\n",
              "Occupation                    float64\n",
              "City_Category                   int64\n",
              "Stay_In_Current_City_Years      int64\n",
              "Marital_Status                float64\n",
              "Product_Category_1            float64\n",
              "Product_Category_2            float64\n",
              "Product_Category_3            float64\n",
              "Purchase                        int64\n",
              "dtype: object"
            ]
          },
          "metadata": {
            "tags": []
          },
          "execution_count": 293
        }
      ]
    },
    {
      "metadata": {
        "id": "OzoIUV1G1rbu",
        "colab_type": "code",
        "colab": {
          "base_uri": "https://localhost:8080/",
          "height": 364
        },
        "outputId": "634a8176-2af1-4fbe-bfac-8be174e17ffd"
      },
      "cell_type": "code",
      "source": [
        "# summarise the dataset\n",
        "fullData_preprocessed.describe()"
      ],
      "execution_count": 294,
      "outputs": [
        {
          "output_type": "execute_result",
          "data": {
            "text/html": [
              "<div>\n",
              "<style scoped>\n",
              "    .dataframe tbody tr th:only-of-type {\n",
              "        vertical-align: middle;\n",
              "    }\n",
              "\n",
              "    .dataframe tbody tr th {\n",
              "        vertical-align: top;\n",
              "    }\n",
              "\n",
              "    .dataframe thead th {\n",
              "        text-align: right;\n",
              "    }\n",
              "</style>\n",
              "<table border=\"1\" class=\"dataframe\">\n",
              "  <thead>\n",
              "    <tr style=\"text-align: right;\">\n",
              "      <th></th>\n",
              "      <th>Gender</th>\n",
              "      <th>Age</th>\n",
              "      <th>Occupation</th>\n",
              "      <th>City_Category</th>\n",
              "      <th>Stay_In_Current_City_Years</th>\n",
              "      <th>Marital_Status</th>\n",
              "      <th>Product_Category_1</th>\n",
              "      <th>Product_Category_2</th>\n",
              "      <th>Product_Category_3</th>\n",
              "      <th>Purchase</th>\n",
              "    </tr>\n",
              "  </thead>\n",
              "  <tbody>\n",
              "    <tr>\n",
              "      <th>count</th>\n",
              "      <td>550068.000000</td>\n",
              "      <td>550068.000000</td>\n",
              "      <td>550068.000000</td>\n",
              "      <td>550068.000000</td>\n",
              "      <td>550068.000000</td>\n",
              "      <td>550068.000000</td>\n",
              "      <td>550068.000000</td>\n",
              "      <td>550068.000000</td>\n",
              "      <td>550068.000000</td>\n",
              "      <td>550068.000000</td>\n",
              "    </tr>\n",
              "    <tr>\n",
              "      <th>mean</th>\n",
              "      <td>0.753105</td>\n",
              "      <td>2.496430</td>\n",
              "      <td>0.403835</td>\n",
              "      <td>1.042640</td>\n",
              "      <td>1.858418</td>\n",
              "      <td>0.409653</td>\n",
              "      <td>0.270214</td>\n",
              "      <td>0.546796</td>\n",
              "      <td>0.703791</td>\n",
              "      <td>9263.968713</td>\n",
              "    </tr>\n",
              "    <tr>\n",
              "      <th>std</th>\n",
              "      <td>0.431205</td>\n",
              "      <td>1.353632</td>\n",
              "      <td>0.326133</td>\n",
              "      <td>0.760211</td>\n",
              "      <td>1.289443</td>\n",
              "      <td>0.491770</td>\n",
              "      <td>0.196811</td>\n",
              "      <td>0.233770</td>\n",
              "      <td>0.126213</td>\n",
              "      <td>5023.065394</td>\n",
              "    </tr>\n",
              "    <tr>\n",
              "      <th>min</th>\n",
              "      <td>0.000000</td>\n",
              "      <td>0.000000</td>\n",
              "      <td>0.000000</td>\n",
              "      <td>0.000000</td>\n",
              "      <td>0.000000</td>\n",
              "      <td>0.000000</td>\n",
              "      <td>0.050000</td>\n",
              "      <td>0.111111</td>\n",
              "      <td>0.166667</td>\n",
              "      <td>12.000000</td>\n",
              "    </tr>\n",
              "    <tr>\n",
              "      <th>25%</th>\n",
              "      <td>1.000000</td>\n",
              "      <td>2.000000</td>\n",
              "      <td>0.100000</td>\n",
              "      <td>0.000000</td>\n",
              "      <td>1.000000</td>\n",
              "      <td>0.000000</td>\n",
              "      <td>0.050000</td>\n",
              "      <td>0.444444</td>\n",
              "      <td>0.703791</td>\n",
              "      <td>5823.000000</td>\n",
              "    </tr>\n",
              "    <tr>\n",
              "      <th>50%</th>\n",
              "      <td>1.000000</td>\n",
              "      <td>2.000000</td>\n",
              "      <td>0.350000</td>\n",
              "      <td>1.000000</td>\n",
              "      <td>2.000000</td>\n",
              "      <td>0.000000</td>\n",
              "      <td>0.250000</td>\n",
              "      <td>0.546796</td>\n",
              "      <td>0.703791</td>\n",
              "      <td>8047.000000</td>\n",
              "    </tr>\n",
              "    <tr>\n",
              "      <th>75%</th>\n",
              "      <td>1.000000</td>\n",
              "      <td>3.000000</td>\n",
              "      <td>0.700000</td>\n",
              "      <td>2.000000</td>\n",
              "      <td>3.000000</td>\n",
              "      <td>1.000000</td>\n",
              "      <td>0.400000</td>\n",
              "      <td>0.777778</td>\n",
              "      <td>0.703791</td>\n",
              "      <td>12054.000000</td>\n",
              "    </tr>\n",
              "    <tr>\n",
              "      <th>max</th>\n",
              "      <td>1.000000</td>\n",
              "      <td>6.000000</td>\n",
              "      <td>1.000000</td>\n",
              "      <td>2.000000</td>\n",
              "      <td>4.000000</td>\n",
              "      <td>1.000000</td>\n",
              "      <td>1.000000</td>\n",
              "      <td>1.000000</td>\n",
              "      <td>1.000000</td>\n",
              "      <td>23961.000000</td>\n",
              "    </tr>\n",
              "  </tbody>\n",
              "</table>\n",
              "</div>"
            ],
            "text/plain": [
              "              Gender            Age     Occupation  City_Category  \\\n",
              "count  550068.000000  550068.000000  550068.000000  550068.000000   \n",
              "mean        0.753105       2.496430       0.403835       1.042640   \n",
              "std         0.431205       1.353632       0.326133       0.760211   \n",
              "min         0.000000       0.000000       0.000000       0.000000   \n",
              "25%         1.000000       2.000000       0.100000       0.000000   \n",
              "50%         1.000000       2.000000       0.350000       1.000000   \n",
              "75%         1.000000       3.000000       0.700000       2.000000   \n",
              "max         1.000000       6.000000       1.000000       2.000000   \n",
              "\n",
              "       Stay_In_Current_City_Years  Marital_Status  Product_Category_1  \\\n",
              "count               550068.000000   550068.000000       550068.000000   \n",
              "mean                     1.858418        0.409653            0.270214   \n",
              "std                      1.289443        0.491770            0.196811   \n",
              "min                      0.000000        0.000000            0.050000   \n",
              "25%                      1.000000        0.000000            0.050000   \n",
              "50%                      2.000000        0.000000            0.250000   \n",
              "75%                      3.000000        1.000000            0.400000   \n",
              "max                      4.000000        1.000000            1.000000   \n",
              "\n",
              "       Product_Category_2  Product_Category_3       Purchase  \n",
              "count       550068.000000       550068.000000  550068.000000  \n",
              "mean             0.546796            0.703791    9263.968713  \n",
              "std              0.233770            0.126213    5023.065394  \n",
              "min              0.111111            0.166667      12.000000  \n",
              "25%              0.444444            0.703791    5823.000000  \n",
              "50%              0.546796            0.703791    8047.000000  \n",
              "75%              0.777778            0.703791   12054.000000  \n",
              "max              1.000000            1.000000   23961.000000  "
            ]
          },
          "metadata": {
            "tags": []
          },
          "execution_count": 294
        }
      ]
    },
    {
      "metadata": {
        "id": "OC173pELBzxS",
        "colab_type": "text"
      },
      "cell_type": "markdown",
      "source": [
        "### 2.2 Split the data into training and testing sets \n",
        "* In order to train our model and see how well it performs, we need to split our data into training and testing sets.\n",
        "* We can then train our model on the training set, and test how well it has generalised to the data on the test set.\n",
        "* There are a number of options for how we can split the data, and for what proportion of our original data we set aside for the test set.\n"
      ]
    },
    {
      "metadata": {
        "id": "rYDtbZifBvcO",
        "colab_type": "code",
        "colab": {}
      },
      "cell_type": "code",
      "source": [
        "# here we need to drop our target variable from the X dataset\n",
        "X = fullData_preprocessed.drop(['Purchase'],axis=1)\n",
        "\n",
        "# get our target variable\n",
        "y = fullData_preprocessed['Purchase']"
      ],
      "execution_count": 0,
      "outputs": []
    },
    {
      "metadata": {
        "id": "rVGYyC7Zu2q0",
        "colab_type": "code",
        "colab": {
          "base_uri": "https://localhost:8080/",
          "height": 94
        },
        "outputId": "dc983370-617c-4600-e000-79eab0603380"
      },
      "cell_type": "code",
      "source": [
        "print ('X: ', X.shape)\n",
        "print ('y: ', y.shape)"
      ],
      "execution_count": 296,
      "outputs": [
        {
          "output_type": "stream",
          "text": [
            "X:  (550068, 9)\n",
            "y:  (550068,)\n"
          ],
          "name": "stdout"
        }
      ]
    },
    {
      "metadata": {
        "id": "51LuckaGg6BO",
        "colab_type": "code",
        "colab": {}
      },
      "cell_type": "code",
      "source": [
        "# \n",
        "from sklearn.model_selection import train_test_split \n",
        "# \n",
        "X_train, X_test, y_train, y_test = train_test_split(X, y, test_size=0.30, random_state=42)"
      ],
      "execution_count": 0,
      "outputs": []
    },
    {
      "metadata": {
        "id": "vIBpJwa4Geqs",
        "colab_type": "code",
        "colab": {
          "base_uri": "https://localhost:8080/",
          "height": 200
        },
        "outputId": "524312aa-9fbe-4a27-b134-5a46069ceab8"
      },
      "cell_type": "code",
      "source": [
        "# get shape of test and training sets\n",
        "print('Training Set:')\n",
        "print('Number of datapoints: ', X_train.shape[0])\n",
        "print('Number of features: ', X_train.shape[1])\n",
        "print('\\n')\n",
        "print('Test Set:')\n",
        "print('Number of datapoints: ', X_test.shape[0])\n",
        "print('Number of features: ', X_test.shape[1])"
      ],
      "execution_count": 298,
      "outputs": [
        {
          "output_type": "stream",
          "text": [
            "Training Set:\n",
            "Number of datapoints:  385047\n",
            "Number of features:  9\n",
            "\n",
            "\n",
            "Test Set:\n",
            "Number of datapoints:  165021\n",
            "Number of features:  9\n"
          ],
          "name": "stdout"
        }
      ]
    },
    {
      "metadata": {
        "id": "4HPTAyhFIUhF",
        "colab_type": "text"
      },
      "cell_type": "markdown",
      "source": [
        "**EXERCISE 2.2:**  Read the documentation for the `train_test_split` function [here](http://scikit-learn.org/stable/modules/generated/sklearn.model_selection.train_test_split.html) and add comments to the code above to improve your understanding \n",
        "\n",
        "---\n",
        "\n",
        "**ANSWER:**\n",
        "*Input in to  code cell above*\n",
        "\n"
      ]
    },
    {
      "metadata": {
        "id": "efvCE5NAKTeN",
        "colab_type": "text"
      },
      "cell_type": "markdown",
      "source": [
        "### 3. Build Model, train and predict \n",
        "**Aim:** \n",
        "* To build and compare different machine learning models\n",
        "* To understand the steps required to define, train and use a model to predict values\n",
        "* To introduce the idea of evaluation metrics for assessing how well a model performs\n",
        "\n",
        "\n",
        "---\n",
        "* Building a model in `sklearn` involves:\n",
        "  * defining / instantiating the model we want to use and its parameters\n",
        "  * fitting the model we have developed to our training set \n",
        "* We can then use the model to predict scores against our test set and assess how good it is\n",
        "* To do this, we need to define an evaluation metric. There are a number of different options, and they differ for both regression and classification problems. This score will be what we use to select our best model, and the best parameters. \n"
      ]
    },
    {
      "metadata": {
        "id": "D86YSFiHNtrY",
        "colab_type": "text"
      },
      "cell_type": "markdown",
      "source": [
        "#### 3.1 Build a baseline model"
      ]
    },
    {
      "metadata": {
        "id": "6aypVMSdOBbd",
        "colab_type": "code",
        "colab": {}
      },
      "cell_type": "code",
      "source": [
        "# import model from sklearn\n",
        "from sklearn.linear_model import LinearRegression\n",
        "\n",
        "# instantiate model\n",
        "baseline = LinearRegression()"
      ],
      "execution_count": 0,
      "outputs": []
    },
    {
      "metadata": {
        "id": "ArV6fZq-OBqI",
        "colab_type": "code",
        "colab": {
          "base_uri": "https://localhost:8080/",
          "height": 76
        },
        "outputId": "2e48cb77-45ee-4091-d5cd-1b69d3bab830"
      },
      "cell_type": "code",
      "source": [
        "# fit model - here we are training our model on our split data, but just the training set\n",
        "baseline = baseline.fit(X_train, y_train)\n",
        "baseline"
      ],
      "execution_count": 300,
      "outputs": [
        {
          "output_type": "execute_result",
          "data": {
            "text/plain": [
              "LinearRegression(copy_X=True, fit_intercept=True, n_jobs=1, normalize=False)"
            ]
          },
          "metadata": {
            "tags": []
          },
          "execution_count": 300
        }
      ]
    },
    {
      "metadata": {
        "id": "Xe2o8tQbOHSf",
        "colab_type": "code",
        "colab": {
          "base_uri": "https://localhost:8080/",
          "height": 76
        },
        "outputId": "2e4ff109-1f26-4576-8c03-d5ae2c002838"
      },
      "cell_type": "code",
      "source": [
        "# given our fitted model, how well will it perform - first step, import metrics \n",
        "from sklearn import metrics  \n",
        "\n",
        "# create a prediction of the Purchase value on a new set of input variables, using our model \n",
        "predict_lr = baseline.predict(X_test)\n",
        "\n",
        "# get a score by comparing our predict against actual. We get the square root of the MSE score to give us RSME\n",
        "score_lr = np.sqrt(metrics.mean_squared_error(y_test,predict_lr))\n",
        "\n",
        "# print out the score \n",
        "print('RMSE score for {} is:'.format(baseline.__class__.__name__),np.round((score_lr), decimals=2))"
      ],
      "execution_count": 301,
      "outputs": [
        {
          "output_type": "stream",
          "text": [
            "RMSE score for LinearRegression is: 4691.3\n"
          ],
          "name": "stdout"
        }
      ]
    },
    {
      "metadata": {
        "id": "wfiZwLheCDBj",
        "colab_type": "text"
      },
      "cell_type": "markdown",
      "source": [
        "#### 3.2 Build a model with Random Forest"
      ]
    },
    {
      "metadata": {
        "id": "6EIZD3_3B_Dt",
        "colab_type": "code",
        "colab": {
          "base_uri": "https://localhost:8080/",
          "height": 164
        },
        "outputId": "cfdfcc09-d7b2-4d71-f358-f815b7b12ab7"
      },
      "cell_type": "code",
      "source": [
        "#import necessary libraries to build model\n",
        "from sklearn.ensemble import RandomForestRegressor\n",
        "\n",
        "# instantiate model\n",
        "rf = RandomForestRegressor(n_estimators=10)\n",
        "\n",
        "# fit model\n",
        "rf = rf.fit(X_train, y_train)\n",
        "\n",
        "# this method also gives us the parameters of the model fit to the data \n",
        "rf.get_params"
      ],
      "execution_count": 302,
      "outputs": [
        {
          "output_type": "execute_result",
          "data": {
            "text/plain": [
              "<bound method BaseEstimator.get_params of RandomForestRegressor(bootstrap=True, criterion='mse', max_depth=None,\n",
              "           max_features='auto', max_leaf_nodes=None,\n",
              "           min_impurity_decrease=0.0, min_impurity_split=None,\n",
              "           min_samples_leaf=1, min_samples_split=2,\n",
              "           min_weight_fraction_leaf=0.0, n_estimators=10, n_jobs=1,\n",
              "           oob_score=False, random_state=None, verbose=0, warm_start=False)>"
            ]
          },
          "metadata": {
            "tags": []
          },
          "execution_count": 302
        }
      ]
    },
    {
      "metadata": {
        "id": "59w5xIFWOmhf",
        "colab_type": "code",
        "colab": {
          "base_uri": "https://localhost:8080/",
          "height": 76
        },
        "outputId": "00dc268f-3fcd-4fec-e4e2-d1be7a5c441d"
      },
      "cell_type": "code",
      "source": [
        "# create a prediction of the Purchase value on a new set of input variables, using our model \n",
        "predict_rf = rf.predict(X_test)\n",
        "\n",
        "# get a score by comparing our predict against actual. We get the square root of the MSE score to give us RSME\n",
        "score_rf = np.sqrt(metrics.mean_squared_error(y_test,predict_rf))\n",
        "\n",
        "# print out the score \n",
        "print('RMSE score for {} is:'.format(rf.__class__.__name__),np.round((score_rf), decimals=2))"
      ],
      "execution_count": 303,
      "outputs": [
        {
          "output_type": "stream",
          "text": [
            "RMSE score for RandomForestRegressor is: 3103.26\n"
          ],
          "name": "stdout"
        }
      ]
    },
    {
      "metadata": {
        "id": "Mze85juqOzcm",
        "colab_type": "text"
      },
      "cell_type": "markdown",
      "source": [
        "**EXERCISE 3.2:** sklearn models have a number of different methods and attributes associated with them. Look up and call some of the methods and attributes associated with the [RandomForestRegressor](http://scikit-learn.org/stable/modules/generated/sklearn.ensemble.RandomForestRegressor.html)\n",
        "\n",
        "---\n",
        "\n",
        "**ANSWER:**\n",
        "*Use cell below for answer* \n"
      ]
    },
    {
      "metadata": {
        "id": "xk-i-flCPXOz",
        "colab_type": "code",
        "colab": {}
      },
      "cell_type": "code",
      "source": [
        "## code here for using methods and attributes  \n"
      ],
      "execution_count": 0,
      "outputs": []
    },
    {
      "metadata": {
        "id": "UvbNCuy9rCyc",
        "colab_type": "text"
      },
      "cell_type": "markdown",
      "source": [
        "##### FOLLOW-UP FROM SESSION: IS THIS A GOOD SCORE? WHAT OTHER METRICS ARE AVAILABLE?\n",
        "* Let's plot the predicted against actual values\n",
        "* Then plot both the predicted and actual values on the same plot\n",
        "* We will need to use a subset of the data to make the plots clearer"
      ]
    },
    {
      "metadata": {
        "id": "LJysg4Vy_4M7",
        "colab_type": "code",
        "colab": {}
      },
      "cell_type": "code",
      "source": [
        "# lets trim the data points\n",
        "\n",
        "end_value = 1000\n",
        "\n",
        "# the x test data points (known)\n",
        "y_short = y_test[0:end_value]\n",
        "\n",
        "# the first x predictions using LR\n",
        "lr_short = predict_lr[0:end_value]\n",
        "\n",
        "# the first x prediction using RF\n",
        "rf_short = predict_rf[0:end_value]"
      ],
      "execution_count": 0,
      "outputs": []
    },
    {
      "metadata": {
        "id": "vvO5H08fE98n",
        "colab_type": "text"
      },
      "cell_type": "markdown",
      "source": [
        "##### Linear Regression"
      ]
    },
    {
      "metadata": {
        "id": "cnq68h_PrRvH",
        "colab_type": "code",
        "colab": {
          "base_uri": "https://localhost:8080/",
          "height": 552
        },
        "outputId": "0135f9bc-2eb2-495b-8940-3d6ef942b86e"
      },
      "cell_type": "code",
      "source": [
        "# lets plot the predicted results against the actual for linear regression \n",
        "import matplotlib.pyplot as plt\n",
        "\n",
        "fig, (ax1, ax2) = plt.subplots(1, 2, figsize=(15,8))\n",
        "\n",
        "ax1.set_title(\"Actual vs Predicted for Linear Regression Model\")\n",
        "ax1.scatter(y_short, lr_short, edgecolors=(0, 0, 0))\n",
        "ax1.plot([y_short.min(), y_short.max()], [y_short.min(), y_short.max()], 'k--', lw=4)\n",
        "ax1.set_xlabel('Actual')\n",
        "ax1.set_ylabel('Predicted')\n",
        "\n",
        "ax2.set_title('Actual and Predicted Values for Linear Regression Model')\n",
        "ax2.scatter(np.arange(0,len(y_short)),y_short, s=10, c='b', marker=\"s\", label='actual')\n",
        "ax2.scatter(np.arange(0,len(y_short)),lr_short, s=10, c='y', marker=\"s\", label='predicted')\n",
        "ax2.legend(loc='upper left');\n",
        "#plt.show()"
      ],
      "execution_count": 305,
      "outputs": [
        {
          "output_type": "display_data",
          "data": {
            "image/png": "[encoded data removed]",
            "text/plain": [
              "<matplotlib.figure.Figure at 0x7fc55f2a9978>"
            ]
          },
          "metadata": {
            "tags": []
          }
        }
      ]
    },
    {
      "metadata": {
        "id": "X5S1vrKhFHeh",
        "colab_type": "text"
      },
      "cell_type": "markdown",
      "source": [
        "##### Metrics:"
      ]
    },
    {
      "metadata": {
        "id": "uE0cF-5DJuit",
        "colab_type": "code",
        "colab": {
          "base_uri": "https://localhost:8080/",
          "height": 88
        },
        "outputId": "6a4a7a96-8709-48cc-dcd3-e314ff8cb1bd"
      },
      "cell_type": "code",
      "source": [
        "print('With sklearn...')\n",
        "mse_lr_short = metrics.mean_squared_error(y_short,lr_short)\n",
        "rmse_lr_short = np.sqrt(metrics.mean_squared_error(y_short,lr_short))\n",
        "mae_lr_short = metrics.mean_absolute_error(y_short,lr_short)\n",
        "\n",
        "print('MSE: ', mse_lr_short)\n",
        "print('RMSE: ', rmse_lr_short)\n",
        "print('MAE: ', mae_lr_short)"
      ],
      "execution_count": 306,
      "outputs": [
        {
          "output_type": "stream",
          "text": [
            "With sklearn...\n",
            "MSE:  22603377.782584835\n",
            "RMSE:  4754.300977282027\n",
            "MAE:  3640.085476443343\n"
          ],
          "name": "stdout"
        }
      ]
    },
    {
      "metadata": {
        "id": "6sOPaJSREfr1",
        "colab_type": "code",
        "colab": {
          "base_uri": "https://localhost:8080/",
          "height": 88
        },
        "outputId": "b7b21b2d-3a0b-4eea-f22b-f59921452a6f"
      },
      "cell_type": "code",
      "source": [
        "print('By hand...')\n",
        "print('MSE: ', np.sum(np.square(np.abs(y_short - lr_short)))/len(y_short))\n",
        "print('RMSE: ', np.sqrt(np.sum(np.square(np.abs(y_short - lr_short))/len(y_short))))\n",
        "print('MAE: ',np.sum(np.abs(y_short - lr_short))/len(y_short))"
      ],
      "execution_count": 307,
      "outputs": [
        {
          "output_type": "stream",
          "text": [
            "By hand...\n",
            "MSE:  22603377.782584835\n",
            "RMSE:  4754.300977282027\n",
            "MAE:  3640.085476443343\n"
          ],
          "name": "stdout"
        }
      ]
    },
    {
      "metadata": {
        "id": "7NFXjEa5E6vS",
        "colab_type": "text"
      },
      "cell_type": "markdown",
      "source": [
        "##### Random Forest"
      ]
    },
    {
      "metadata": {
        "id": "tuCrH_LQsZ79",
        "colab_type": "code",
        "colab": {
          "base_uri": "https://localhost:8080/",
          "height": 512
        },
        "outputId": "ed96fe48-8669-4138-e55f-9fd6575293e8"
      },
      "cell_type": "code",
      "source": [
        "# lets do it again for random forest \n",
        "\n",
        "fig, (ax1, ax2) = plt.subplots(1, 2, figsize=(15,8))\n",
        "\n",
        "ax1.set_title(\"Actual vs Predicted for Random Forest Model\")\n",
        "ax1.scatter(y_short, rf_short, edgecolors=(0, 0, 0))\n",
        "ax1.plot([y_short.min(), y_short.max()], [y_short.min(), y_short.max()], 'k--', lw=4)\n",
        "ax1.set_xlabel('Actual')\n",
        "ax1.set_ylabel('Predicted')\n",
        "\n",
        "ax2.set_title('Actual and Predicted Values for Random Forest Model')\n",
        "ax2.scatter(np.arange(0,len(y_short)),y_short, s=10, c='b', marker=\"s\", label='actual')\n",
        "ax2.scatter(np.arange(0,len(y_short)),rf_short, s=10, c='y', marker=\"s\", label='predicted')\n",
        "ax2.legend(loc='upper left');\n",
        "#plt.show()"
      ],
      "execution_count": 308,
      "outputs": [
        {
          "output_type": "display_data",
          "data": {
            "image/png": "[encoded data removed]",
            "text/plain": [
              "<matplotlib.figure.Figure at 0x7fc55f2a9240>"
            ]
          },
          "metadata": {
            "tags": []
          }
        }
      ]
    },
    {
      "metadata": {
        "id": "M0m5U3pDPdyL",
        "colab_type": "text"
      },
      "cell_type": "markdown",
      "source": [
        "##### Metrics"
      ]
    },
    {
      "metadata": {
        "id": "G67YGIrWL6Id",
        "colab_type": "code",
        "colab": {
          "base_uri": "https://localhost:8080/",
          "height": 88
        },
        "outputId": "fabe412d-015d-4616-9f5a-32ce07b24256"
      },
      "cell_type": "code",
      "source": [
        "print('With sklearn...')\n",
        "mse_rf_short = metrics.mean_squared_error(y_short,rf_short)\n",
        "rmse_rf_short = np.sqrt(metrics.mean_squared_error(y_short,rf_short))\n",
        "mae_rf_short = metrics.mean_absolute_error(y_short,rf_short)\n",
        "\n",
        "print('MSE: ', mse_rf_short)\n",
        "print('RMSE: ', rmse_rf_short)\n",
        "print('MAE: ', mae_rf_short)"
      ],
      "execution_count": 309,
      "outputs": [
        {
          "output_type": "stream",
          "text": [
            "With sklearn...\n",
            "MSE:  9418698.90033233\n",
            "RMSE:  3068.989882735414\n",
            "MAE:  2253.335318971645\n"
          ],
          "name": "stdout"
        }
      ]
    },
    {
      "metadata": {
        "id": "tIfVzEcOI2jl",
        "colab_type": "code",
        "colab": {
          "base_uri": "https://localhost:8080/",
          "height": 88
        },
        "outputId": "0ad64b30-ea95-4b5d-9663-cc034f16c96d"
      },
      "cell_type": "code",
      "source": [
        "print('By hand...')\n",
        "print('MSE: ', np.sum(np.square(np.abs(y_short - rf_short)))/len(y_short))\n",
        "print('RMSE: ', np.sqrt(np.sum(np.square(np.abs(y_short - rf_short))/len(y_short))))\n",
        "print('MAE: ',np.sum(np.abs(y_short - rf_short))/len(y_short))"
      ],
      "execution_count": 310,
      "outputs": [
        {
          "output_type": "stream",
          "text": [
            "By hand...\n",
            "MSE:  9418698.90033233\n",
            "RMSE:  3068.989882735414\n",
            "MAE:  2253.335318971645\n"
          ],
          "name": "stdout"
        }
      ]
    },
    {
      "metadata": {
        "id": "9oP1LAVLP_5y",
        "colab_type": "text"
      },
      "cell_type": "markdown",
      "source": [
        "##### MAE..."
      ]
    },
    {
      "metadata": {
        "id": "TT-9hhu7P_UA",
        "colab_type": "code",
        "colab": {
          "base_uri": "https://localhost:8080/",
          "height": 1092
        },
        "outputId": "c61219cd-4586-4fe5-811a-809f70b72215"
      },
      "cell_type": "code",
      "source": [
        "# with MAE, we get the absolute values of the error\n",
        "np.abs(y_short - rf_short)"
      ],
      "execution_count": 311,
      "outputs": [
        {
          "output_type": "execute_result",
          "data": {
            "text/plain": [
              "84432      5336.353333\n",
              "72724       147.094949\n",
              "197032     1209.850000\n",
              "353704     1345.818333\n",
              "91198     10893.850000\n",
              "263977     1180.914324\n",
              "340456     4124.102887\n",
              "24094      3453.584208\n",
              "157277     2419.636667\n",
              "531759     3643.091667\n",
              "140977     1877.727486\n",
              "414535     1395.814286\n",
              "504520     3423.237778\n",
              "197149      146.073333\n",
              "241974     1948.776160\n",
              "532759     1975.024103\n",
              "490181     4222.575000\n",
              "261405      898.366667\n",
              "345359     1017.933333\n",
              "127565      300.233333\n",
              "396797     4054.890275\n",
              "220547     1784.400000\n",
              "361288     3273.043750\n",
              "217635     4927.721667\n",
              "397197     2506.782040\n",
              "153385     3642.875000\n",
              "380341     2346.000000\n",
              "401168      100.066667\n",
              "325026     4001.515000\n",
              "436361      575.135001\n",
              "              ...     \n",
              "244506     1579.685267\n",
              "505624     2407.253760\n",
              "156809     1636.832501\n",
              "155807      819.566439\n",
              "509891     2400.247411\n",
              "291716        1.141667\n",
              "343422     2261.946667\n",
              "82263      1649.303172\n",
              "384741    12617.300000\n",
              "181802       74.371667\n",
              "538914      798.200000\n",
              "104799     1461.897500\n",
              "308722      951.513087\n",
              "280526    11276.043611\n",
              "369086      296.775000\n",
              "400131     2966.700000\n",
              "274076      479.635107\n",
              "361575     2805.342876\n",
              "438511     1083.338343\n",
              "219408     1481.569524\n",
              "243751     4325.946667\n",
              "182409     2235.716496\n",
              "282610      518.011111\n",
              "8922       2311.447619\n",
              "2519        915.014841\n",
              "349436     4061.097619\n",
              "46400       990.600000\n",
              "315421     2175.946542\n",
              "471410     2588.934689\n",
              "255123     2779.354524\n",
              "Name: Purchase, Length: 1000, dtype: float64"
            ]
          },
          "metadata": {
            "tags": []
          },
          "execution_count": 311
        }
      ]
    },
    {
      "metadata": {
        "id": "1Eg0p8nzRzqm",
        "colab_type": "code",
        "colab": {
          "base_uri": "https://localhost:8080/",
          "height": 36
        },
        "outputId": "d2055b00-c978-462b-9acc-352137ec1139"
      },
      "cell_type": "code",
      "source": [
        "# sum them up \n",
        "np.sum(np.abs(y_short - rf_short))"
      ],
      "execution_count": 312,
      "outputs": [
        {
          "output_type": "execute_result",
          "data": {
            "text/plain": [
              "2253335.318971645"
            ]
          },
          "metadata": {
            "tags": []
          },
          "execution_count": 312
        }
      ]
    },
    {
      "metadata": {
        "id": "OZHpx1HARz6w",
        "colab_type": "code",
        "colab": {
          "base_uri": "https://localhost:8080/",
          "height": 36
        },
        "outputId": "fe4c4a64-995f-4c49-f55a-643e69f49cf0"
      },
      "cell_type": "code",
      "source": [
        "# then divide by the total number of predictions/actual values\n",
        "np.sum(np.abs(y_short - rf_short))/len(y_short)"
      ],
      "execution_count": 313,
      "outputs": [
        {
          "output_type": "execute_result",
          "data": {
            "text/plain": [
              "2253.335318971645"
            ]
          },
          "metadata": {
            "tags": []
          },
          "execution_count": 313
        }
      ]
    },
    {
      "metadata": {
        "id": "alOIoHnbRuPQ",
        "colab_type": "text"
      },
      "cell_type": "markdown",
      "source": [
        "##### RMSE...."
      ]
    },
    {
      "metadata": {
        "id": "HuHmSN9hNCpg",
        "colab_type": "code",
        "colab": {
          "base_uri": "https://localhost:8080/",
          "height": 1092
        },
        "outputId": "f068a592-c076-44b1-c4b2-21f722bcc65f"
      },
      "cell_type": "code",
      "source": [
        "# with RMSE, we get the absolute values of the error\n",
        "np.abs(y_short - rf_short)"
      ],
      "execution_count": 314,
      "outputs": [
        {
          "output_type": "execute_result",
          "data": {
            "text/plain": [
              "84432      5336.353333\n",
              "72724       147.094949\n",
              "197032     1209.850000\n",
              "353704     1345.818333\n",
              "91198     10893.850000\n",
              "263977     1180.914324\n",
              "340456     4124.102887\n",
              "24094      3453.584208\n",
              "157277     2419.636667\n",
              "531759     3643.091667\n",
              "140977     1877.727486\n",
              "414535     1395.814286\n",
              "504520     3423.237778\n",
              "197149      146.073333\n",
              "241974     1948.776160\n",
              "532759     1975.024103\n",
              "490181     4222.575000\n",
              "261405      898.366667\n",
              "345359     1017.933333\n",
              "127565      300.233333\n",
              "396797     4054.890275\n",
              "220547     1784.400000\n",
              "361288     3273.043750\n",
              "217635     4927.721667\n",
              "397197     2506.782040\n",
              "153385     3642.875000\n",
              "380341     2346.000000\n",
              "401168      100.066667\n",
              "325026     4001.515000\n",
              "436361      575.135001\n",
              "              ...     \n",
              "244506     1579.685267\n",
              "505624     2407.253760\n",
              "156809     1636.832501\n",
              "155807      819.566439\n",
              "509891     2400.247411\n",
              "291716        1.141667\n",
              "343422     2261.946667\n",
              "82263      1649.303172\n",
              "384741    12617.300000\n",
              "181802       74.371667\n",
              "538914      798.200000\n",
              "104799     1461.897500\n",
              "308722      951.513087\n",
              "280526    11276.043611\n",
              "369086      296.775000\n",
              "400131     2966.700000\n",
              "274076      479.635107\n",
              "361575     2805.342876\n",
              "438511     1083.338343\n",
              "219408     1481.569524\n",
              "243751     4325.946667\n",
              "182409     2235.716496\n",
              "282610      518.011111\n",
              "8922       2311.447619\n",
              "2519        915.014841\n",
              "349436     4061.097619\n",
              "46400       990.600000\n",
              "315421     2175.946542\n",
              "471410     2588.934689\n",
              "255123     2779.354524\n",
              "Name: Purchase, Length: 1000, dtype: float64"
            ]
          },
          "metadata": {
            "tags": []
          },
          "execution_count": 314
        }
      ]
    },
    {
      "metadata": {
        "id": "MIOn6cOCRQhJ",
        "colab_type": "code",
        "colab": {
          "base_uri": "https://localhost:8080/",
          "height": 1092
        },
        "outputId": "aa9bf67c-88b1-494a-f7a5-01e73e692b93"
      },
      "cell_type": "code",
      "source": [
        "# then square them - giving even higher values to larger errors\n",
        "np.square(np.abs(y_short - rf_short))"
      ],
      "execution_count": 315,
      "outputs": [
        {
          "output_type": "execute_result",
          "data": {
            "text/plain": [
              "84432     2.847667e+07\n",
              "72724     2.163692e+04\n",
              "197032    1.463737e+06\n",
              "353704    1.811227e+06\n",
              "91198     1.186760e+08\n",
              "263977    1.394559e+06\n",
              "340456    1.700822e+07\n",
              "24094     1.192724e+07\n",
              "157277    5.854642e+06\n",
              "531759    1.327212e+07\n",
              "140977    3.525861e+06\n",
              "414535    1.948298e+06\n",
              "504520    1.171856e+07\n",
              "197149    2.133742e+04\n",
              "241974    3.797729e+06\n",
              "532759    3.900720e+06\n",
              "490181    1.783014e+07\n",
              "261405    8.070627e+05\n",
              "345359    1.036188e+06\n",
              "127565    9.014005e+04\n",
              "396797    1.644214e+07\n",
              "220547    3.184083e+06\n",
              "361288    1.071282e+07\n",
              "217635    2.428244e+07\n",
              "397197    6.283956e+06\n",
              "153385    1.327054e+07\n",
              "380341    5.503716e+06\n",
              "401168    1.001334e+04\n",
              "325026    1.601212e+07\n",
              "436361    3.307803e+05\n",
              "              ...     \n",
              "244506    2.495406e+06\n",
              "505624    5.794871e+06\n",
              "156809    2.679221e+06\n",
              "155807    6.716891e+05\n",
              "509891    5.761188e+06\n",
              "291716    1.303403e+00\n",
              "343422    5.116403e+06\n",
              "82263     2.720201e+06\n",
              "384741    1.591963e+08\n",
              "181802    5.531145e+03\n",
              "538914    6.371232e+05\n",
              "104799    2.137144e+06\n",
              "308722    9.053772e+05\n",
              "280526    1.271492e+08\n",
              "369086    8.807540e+04\n",
              "400131    8.801309e+06\n",
              "274076    2.300498e+05\n",
              "361575    7.869949e+06\n",
              "438511    1.173622e+06\n",
              "219408    2.195048e+06\n",
              "243751    1.871381e+07\n",
              "182409    4.998428e+06\n",
              "282610    2.683355e+05\n",
              "8922      5.342790e+06\n",
              "2519      8.372522e+05\n",
              "349436    1.649251e+07\n",
              "46400     9.812884e+05\n",
              "315421    4.734743e+06\n",
              "471410    6.702583e+06\n",
              "255123    7.724812e+06\n",
              "Name: Purchase, Length: 1000, dtype: float64"
            ]
          },
          "metadata": {
            "tags": []
          },
          "execution_count": 315
        }
      ]
    },
    {
      "metadata": {
        "id": "AGjK0IjKRQsY",
        "colab_type": "code",
        "colab": {}
      },
      "cell_type": "code",
      "source": [
        "# then sum them\n",
        "np.sum(np.square(np.abs(y_short - rf_short)))"
      ],
      "execution_count": 0,
      "outputs": []
    },
    {
      "metadata": {
        "id": "0US5NfeVRQpP",
        "colab_type": "code",
        "colab": {
          "base_uri": "https://localhost:8080/",
          "height": 36
        },
        "outputId": "a3fbc77b-371b-4e67-8f54-c0da578c65b7"
      },
      "cell_type": "code",
      "source": [
        "# then divided by them by the total number of predictions/actual values\n",
        "np.sum(np.square(np.abs(y_short - rf_short))/len(y_short))       "
      ],
      "execution_count": 316,
      "outputs": [
        {
          "output_type": "execute_result",
          "data": {
            "text/plain": [
              "9418698.900332332"
            ]
          },
          "metadata": {
            "tags": []
          },
          "execution_count": 316
        }
      ]
    },
    {
      "metadata": {
        "id": "XWkKR92GRQmT",
        "colab_type": "code",
        "colab": {
          "base_uri": "https://localhost:8080/",
          "height": 36
        },
        "outputId": "aa96dd24-dbcc-4da4-f30d-d8cd5ddedb32"
      },
      "cell_type": "code",
      "source": [
        "# then take the square root of that value\n",
        "np.sqrt(np.sum(np.square(np.abs(y_short - rf_short))/len(y_short)))"
      ],
      "execution_count": 317,
      "outputs": [
        {
          "output_type": "execute_result",
          "data": {
            "text/plain": [
              "3068.989882735414"
            ]
          },
          "metadata": {
            "tags": []
          },
          "execution_count": 317
        }
      ]
    },
    {
      "metadata": {
        "id": "txJcb6kRQqY2",
        "colab_type": "text"
      },
      "cell_type": "markdown",
      "source": [
        "#### 3.3 Build you own model"
      ]
    },
    {
      "metadata": {
        "id": "rpjYuvoGO07q",
        "colab_type": "text"
      },
      "cell_type": "markdown",
      "source": [
        "**EXERCISE 3.3:** Idenitfy another regressor model, instantiate it, fit it to the data, and use it to predict scores. If time, explore the parameters of the model, its attributes and methods.\n",
        "\n",
        "---\n",
        "\n",
        "**ANSWER:**\n",
        "*Use cell below for answer* "
      ]
    },
    {
      "metadata": {
        "id": "gTHJaQhrRV-v",
        "colab_type": "code",
        "colab": {}
      },
      "cell_type": "code",
      "source": [
        "# code here to build your own model\n"
      ],
      "execution_count": 0,
      "outputs": []
    },
    {
      "metadata": {
        "id": "6_lU-56oRpuy",
        "colab_type": "text"
      },
      "cell_type": "markdown",
      "source": [
        "### 4. Refine Model and Data\n",
        "**AIM:** \n",
        "* Understand how we can tune the parameters of a model\n",
        "* Understand that there are other options to split test and training data\n",
        "\n",
        "---\n",
        "**Hyperparameters**\n",
        "* We can refine our model by tuning the hyperparameters, some of which can have a big effect on the performance. Think of hyperparameters as parameters that are not learned through training by the model but set by us prior to training. \n",
        "* Tuning can be done 'by hand', or using a `GridSearch` function to test multiple parameters during the same operation\n",
        "\n",
        "**Cross-Validation Options**\n",
        "* We can also refine our model performance by looking at how we train our models. \n",
        "* Section *2.2* referred to other ways of splitting the dataset into test and training sets. `k-fold Cross-Validation` is one way of doing this, and you can find out more about it [here](https://sebastianraschka.com/blog/2016/model-evaluation-selection-part3.html)"
      ]
    },
    {
      "metadata": {
        "id": "ZrvV10V9STGE",
        "colab_type": "text"
      },
      "cell_type": "markdown",
      "source": [
        "#### 4.1 Hyperparameter tuning using Grid Search\n",
        "\n",
        "As a rule, increasing min or reducing max hyperparameters will regularize the model. The parameters tuned below are:\n",
        "* n_estimators: this controls the number of trees in the forest\n",
        "* criterion: this measures the quality of the split and can be either 'mae' or 'mse' \n",
        "* max_features: to test the maximum number of features that are evaluated for splitting at each node "
      ]
    },
    {
      "metadata": {
        "id": "DQFmlwJgSeZM",
        "colab_type": "code",
        "colab": {}
      },
      "cell_type": "code",
      "source": [
        "# create our random forest model\n",
        "rf_gs = RandomForestRegressor()\n",
        "\n",
        "# we need to specify the parameters we want to tune, as a dictionary \n",
        "parameters_rf = {'n_estimators': [10,50,100], 'criterion': ['mse','mae'], 'max_features': ['auto','sqrt','log2']}"
      ],
      "execution_count": 0,
      "outputs": []
    },
    {
      "metadata": {
        "id": "S8ZaxwtwUKSl",
        "colab_type": "code",
        "colab": {}
      },
      "cell_type": "code",
      "source": [
        "# we need to define a scoring criteria for the gridsearch function, using the make_scorer function\n",
        "from sklearn.metrics import make_scorer\n",
        "\n",
        "# note our scoring function is MSE\n",
        "scorer = make_scorer(metrics.mean_squared_error)"
      ],
      "execution_count": 0,
      "outputs": []
    },
    {
      "metadata": {
        "id": "iu6u3kTrV2rP",
        "colab_type": "code",
        "colab": {
          "base_uri": "https://localhost:8080/",
          "height": 208
        },
        "outputId": "9cbb2d7f-135f-47c7-c8f9-4ae041920c4c"
      },
      "cell_type": "code",
      "source": [
        "# import necessary library\n",
        "from sklearn.model_selection import GridSearchCV\n",
        "\n",
        "# we create our gridsearch object \n",
        "grid_obj = GridSearchCV(rf_gs, parameters_rf, scoring=scorer)\n",
        "grid_obj"
      ],
      "execution_count": 320,
      "outputs": [
        {
          "output_type": "execute_result",
          "data": {
            "text/plain": [
              "GridSearchCV(cv=None, error_score='raise',\n",
              "       estimator=RandomForestRegressor(bootstrap=True, criterion='mse', max_depth=None,\n",
              "           max_features='auto', max_leaf_nodes=None,\n",
              "           min_impurity_decrease=0.0, min_impurity_split=None,\n",
              "           min_samples_leaf=1, min_samples_split=2,\n",
              "           min_weight_fraction_leaf=0.0, n_estimators=10, n_jobs=1,\n",
              "           oob_score=False, random_state=None, verbose=0, warm_start=False),\n",
              "       fit_params=None, iid=True, n_jobs=1,\n",
              "       param_grid={'n_estimators': [10, 50, 100], 'criterion': ['mse', 'mae'], 'max_features': ['auto', 'sqrt', 'log2']},\n",
              "       pre_dispatch='2*n_jobs', refit=True, return_train_score='warn',\n",
              "       scoring=make_scorer(mean_squared_error), verbose=0)"
            ]
          },
          "metadata": {
            "tags": []
          },
          "execution_count": 320
        }
      ]
    },
    {
      "metadata": {
        "id": "mXN5-P7Kc397",
        "colab_type": "code",
        "colab": {}
      },
      "cell_type": "code",
      "source": [
        "# create a subset of the data to do the grid searc\n",
        "X_train_gs = X_train[:100]\n",
        "y_train_gs = y_train[:100]"
      ],
      "execution_count": 0,
      "outputs": []
    },
    {
      "metadata": {
        "id": "NIkMkluZUKX1",
        "colab_type": "code",
        "colab": {}
      },
      "cell_type": "code",
      "source": [
        "# fit the gridsearch object to our datatset\n",
        "grid_fit = grid_obj.fit(X_train_gs, y_train_gs)"
      ],
      "execution_count": 0,
      "outputs": []
    },
    {
      "metadata": {
        "id": "oNA1mmO1YtB9",
        "colab_type": "code",
        "colab": {
          "base_uri": "https://localhost:8080/",
          "height": 1760
        },
        "outputId": "365aa26e-cde1-480c-adb8-41b3e4e3f7a1"
      },
      "cell_type": "code",
      "source": [
        "# look at the results:\n",
        "print(\"GridSearch on Random Forest Model:\")\n",
        "\n",
        "# get scores of parameters tested and display as a dataframe\n",
        "cv_results_df = pd.DataFrame(grid_fit.cv_results_) \n",
        "cv_results_df"
      ],
      "execution_count": 323,
      "outputs": [
        {
          "output_type": "stream",
          "text": [
            "GridSearch on Random Forest Model:\n"
          ],
          "name": "stdout"
        },
        {
          "output_type": "stream",
          "text": [
            "/usr/local/lib/python3.6/dist-packages/sklearn/utils/deprecation.py:122: FutureWarning: You are accessing a training score ('mean_train_score'), which will not be available by default any more in 0.21. If you need training scores, please set return_train_score=True\n",
            "  warnings.warn(*warn_args, **warn_kwargs)\n",
            "/usr/local/lib/python3.6/dist-packages/sklearn/utils/deprecation.py:122: FutureWarning: You are accessing a training score ('split0_train_score'), which will not be available by default any more in 0.21. If you need training scores, please set return_train_score=True\n",
            "  warnings.warn(*warn_args, **warn_kwargs)\n",
            "/usr/local/lib/python3.6/dist-packages/sklearn/utils/deprecation.py:122: FutureWarning: You are accessing a training score ('split1_train_score'), which will not be available by default any more in 0.21. If you need training scores, please set return_train_score=True\n",
            "  warnings.warn(*warn_args, **warn_kwargs)\n",
            "/usr/local/lib/python3.6/dist-packages/sklearn/utils/deprecation.py:122: FutureWarning: You are accessing a training score ('split2_train_score'), which will not be available by default any more in 0.21. If you need training scores, please set return_train_score=True\n",
            "  warnings.warn(*warn_args, **warn_kwargs)\n",
            "/usr/local/lib/python3.6/dist-packages/sklearn/utils/deprecation.py:122: FutureWarning: You are accessing a training score ('std_train_score'), which will not be available by default any more in 0.21. If you need training scores, please set return_train_score=True\n",
            "  warnings.warn(*warn_args, **warn_kwargs)\n"
          ],
          "name": "stderr"
        },
        {
          "output_type": "execute_result",
          "data": {
            "text/html": [
              "<div>\n",
              "<style scoped>\n",
              "    .dataframe tbody tr th:only-of-type {\n",
              "        vertical-align: middle;\n",
              "    }\n",
              "\n",
              "    .dataframe tbody tr th {\n",
              "        vertical-align: top;\n",
              "    }\n",
              "\n",
              "    .dataframe thead th {\n",
              "        text-align: right;\n",
              "    }\n",
              "</style>\n",
              "<table border=\"1\" class=\"dataframe\">\n",
              "  <thead>\n",
              "    <tr style=\"text-align: right;\">\n",
              "      <th></th>\n",
              "      <th>mean_fit_time</th>\n",
              "      <th>mean_score_time</th>\n",
              "      <th>mean_test_score</th>\n",
              "      <th>mean_train_score</th>\n",
              "      <th>param_criterion</th>\n",
              "      <th>param_max_features</th>\n",
              "      <th>param_n_estimators</th>\n",
              "      <th>params</th>\n",
              "      <th>rank_test_score</th>\n",
              "      <th>split0_test_score</th>\n",
              "      <th>split0_train_score</th>\n",
              "      <th>split1_test_score</th>\n",
              "      <th>split1_train_score</th>\n",
              "      <th>split2_test_score</th>\n",
              "      <th>split2_train_score</th>\n",
              "      <th>std_fit_time</th>\n",
              "      <th>std_score_time</th>\n",
              "      <th>std_test_score</th>\n",
              "      <th>std_train_score</th>\n",
              "    </tr>\n",
              "  </thead>\n",
              "  <tbody>\n",
              "    <tr>\n",
              "      <th>0</th>\n",
              "      <td>0.011729</td>\n",
              "      <td>0.000991</td>\n",
              "      <td>1.750661e+07</td>\n",
              "      <td>3.856637e+06</td>\n",
              "      <td>mse</td>\n",
              "      <td>auto</td>\n",
              "      <td>10</td>\n",
              "      <td>{'criterion': 'mse', 'max_features': 'auto', '...</td>\n",
              "      <td>13</td>\n",
              "      <td>1.253486e+07</td>\n",
              "      <td>5.395193e+06</td>\n",
              "      <td>2.220564e+07</td>\n",
              "      <td>3.105362e+06</td>\n",
              "      <td>1.792997e+07</td>\n",
              "      <td>3.069357e+06</td>\n",
              "      <td>0.000669</td>\n",
              "      <td>0.000088</td>\n",
              "      <td>3.968634e+06</td>\n",
              "      <td>1.088023e+06</td>\n",
              "    </tr>\n",
              "    <tr>\n",
              "      <th>1</th>\n",
              "      <td>0.049674</td>\n",
              "      <td>0.002575</td>\n",
              "      <td>1.827040e+07</td>\n",
              "      <td>3.093208e+06</td>\n",
              "      <td>mse</td>\n",
              "      <td>auto</td>\n",
              "      <td>50</td>\n",
              "      <td>{'criterion': 'mse', 'max_features': 'auto', '...</td>\n",
              "      <td>5</td>\n",
              "      <td>1.345362e+07</td>\n",
              "      <td>3.047585e+06</td>\n",
              "      <td>2.311056e+07</td>\n",
              "      <td>3.630208e+06</td>\n",
              "      <td>1.839298e+07</td>\n",
              "      <td>2.601831e+06</td>\n",
              "      <td>0.000445</td>\n",
              "      <td>0.000042</td>\n",
              "      <td>3.952770e+06</td>\n",
              "      <td>4.210709e+05</td>\n",
              "    </tr>\n",
              "    <tr>\n",
              "      <th>2</th>\n",
              "      <td>0.097241</td>\n",
              "      <td>0.004347</td>\n",
              "      <td>1.696787e+07</td>\n",
              "      <td>2.849268e+06</td>\n",
              "      <td>mse</td>\n",
              "      <td>auto</td>\n",
              "      <td>100</td>\n",
              "      <td>{'criterion': 'mse', 'max_features': 'auto', '...</td>\n",
              "      <td>16</td>\n",
              "      <td>1.239648e+07</td>\n",
              "      <td>3.645971e+06</td>\n",
              "      <td>1.994207e+07</td>\n",
              "      <td>2.788730e+06</td>\n",
              "      <td>1.870357e+07</td>\n",
              "      <td>2.113103e+06</td>\n",
              "      <td>0.000163</td>\n",
              "      <td>0.000018</td>\n",
              "      <td>3.319410e+06</td>\n",
              "      <td>6.272533e+05</td>\n",
              "    </tr>\n",
              "    <tr>\n",
              "      <th>3</th>\n",
              "      <td>0.010284</td>\n",
              "      <td>0.000990</td>\n",
              "      <td>2.098357e+07</td>\n",
              "      <td>3.798452e+06</td>\n",
              "      <td>mse</td>\n",
              "      <td>sqrt</td>\n",
              "      <td>10</td>\n",
              "      <td>{'criterion': 'mse', 'max_features': 'sqrt', '...</td>\n",
              "      <td>1</td>\n",
              "      <td>1.669221e+07</td>\n",
              "      <td>5.217064e+06</td>\n",
              "      <td>2.179593e+07</td>\n",
              "      <td>3.325419e+06</td>\n",
              "      <td>2.459261e+07</td>\n",
              "      <td>2.852874e+06</td>\n",
              "      <td>0.000072</td>\n",
              "      <td>0.000014</td>\n",
              "      <td>3.282902e+06</td>\n",
              "      <td>1.021492e+06</td>\n",
              "    </tr>\n",
              "    <tr>\n",
              "      <th>4</th>\n",
              "      <td>0.046974</td>\n",
              "      <td>0.002579</td>\n",
              "      <td>1.809861e+07</td>\n",
              "      <td>2.577701e+06</td>\n",
              "      <td>mse</td>\n",
              "      <td>sqrt</td>\n",
              "      <td>50</td>\n",
              "      <td>{'criterion': 'mse', 'max_features': 'sqrt', '...</td>\n",
              "      <td>6</td>\n",
              "      <td>1.274718e+07</td>\n",
              "      <td>2.904046e+06</td>\n",
              "      <td>2.178538e+07</td>\n",
              "      <td>2.491011e+06</td>\n",
              "      <td>1.992542e+07</td>\n",
              "      <td>2.338047e+06</td>\n",
              "      <td>0.001308</td>\n",
              "      <td>0.000088</td>\n",
              "      <td>3.914535e+06</td>\n",
              "      <td>2.390608e+05</td>\n",
              "    </tr>\n",
              "    <tr>\n",
              "      <th>5</th>\n",
              "      <td>0.090830</td>\n",
              "      <td>0.004203</td>\n",
              "      <td>1.719969e+07</td>\n",
              "      <td>2.579461e+06</td>\n",
              "      <td>mse</td>\n",
              "      <td>sqrt</td>\n",
              "      <td>100</td>\n",
              "      <td>{'criterion': 'mse', 'max_features': 'sqrt', '...</td>\n",
              "      <td>15</td>\n",
              "      <td>1.233423e+07</td>\n",
              "      <td>3.144151e+06</td>\n",
              "      <td>2.038781e+07</td>\n",
              "      <td>2.551242e+06</td>\n",
              "      <td>1.902447e+07</td>\n",
              "      <td>2.042991e+06</td>\n",
              "      <td>0.001072</td>\n",
              "      <td>0.000027</td>\n",
              "      <td>3.535773e+06</td>\n",
              "      <td>4.499891e+05</td>\n",
              "    </tr>\n",
              "    <tr>\n",
              "      <th>6</th>\n",
              "      <td>0.010396</td>\n",
              "      <td>0.000970</td>\n",
              "      <td>1.847849e+07</td>\n",
              "      <td>3.563372e+06</td>\n",
              "      <td>mse</td>\n",
              "      <td>log2</td>\n",
              "      <td>10</td>\n",
              "      <td>{'criterion': 'mse', 'max_features': 'log2', '...</td>\n",
              "      <td>4</td>\n",
              "      <td>1.352810e+07</td>\n",
              "      <td>5.588639e+06</td>\n",
              "      <td>2.081781e+07</td>\n",
              "      <td>2.296025e+06</td>\n",
              "      <td>2.123958e+07</td>\n",
              "      <td>2.805453e+06</td>\n",
              "      <td>0.000045</td>\n",
              "      <td>0.000028</td>\n",
              "      <td>3.557223e+06</td>\n",
              "      <td>1.447102e+06</td>\n",
              "    </tr>\n",
              "    <tr>\n",
              "      <th>7</th>\n",
              "      <td>0.045991</td>\n",
              "      <td>0.002527</td>\n",
              "      <td>1.760895e+07</td>\n",
              "      <td>2.873277e+06</td>\n",
              "      <td>mse</td>\n",
              "      <td>log2</td>\n",
              "      <td>50</td>\n",
              "      <td>{'criterion': 'mse', 'max_features': 'log2', '...</td>\n",
              "      <td>11</td>\n",
              "      <td>1.335481e+07</td>\n",
              "      <td>3.065205e+06</td>\n",
              "      <td>2.133675e+07</td>\n",
              "      <td>2.774556e+06</td>\n",
              "      <td>1.826422e+07</td>\n",
              "      <td>2.780069e+06</td>\n",
              "      <td>0.000147</td>\n",
              "      <td>0.000088</td>\n",
              "      <td>3.298602e+06</td>\n",
              "      <td>1.357327e+05</td>\n",
              "    </tr>\n",
              "    <tr>\n",
              "      <th>8</th>\n",
              "      <td>0.092326</td>\n",
              "      <td>0.004368</td>\n",
              "      <td>1.785203e+07</td>\n",
              "      <td>2.654953e+06</td>\n",
              "      <td>mse</td>\n",
              "      <td>log2</td>\n",
              "      <td>100</td>\n",
              "      <td>{'criterion': 'mse', 'max_features': 'log2', '...</td>\n",
              "      <td>9</td>\n",
              "      <td>1.393410e+07</td>\n",
              "      <td>3.237331e+06</td>\n",
              "      <td>2.054638e+07</td>\n",
              "      <td>2.471361e+06</td>\n",
              "      <td>1.919435e+07</td>\n",
              "      <td>2.256168e+06</td>\n",
              "      <td>0.001460</td>\n",
              "      <td>0.000069</td>\n",
              "      <td>2.865187e+06</td>\n",
              "      <td>4.210698e+05</td>\n",
              "    </tr>\n",
              "    <tr>\n",
              "      <th>9</th>\n",
              "      <td>0.016785</td>\n",
              "      <td>0.001110</td>\n",
              "      <td>1.939375e+07</td>\n",
              "      <td>3.676137e+06</td>\n",
              "      <td>mae</td>\n",
              "      <td>auto</td>\n",
              "      <td>10</td>\n",
              "      <td>{'criterion': 'mae', 'max_features': 'auto', '...</td>\n",
              "      <td>3</td>\n",
              "      <td>1.276052e+07</td>\n",
              "      <td>3.711018e+06</td>\n",
              "      <td>2.361051e+07</td>\n",
              "      <td>4.022406e+06</td>\n",
              "      <td>2.201123e+07</td>\n",
              "      <td>3.294987e+06</td>\n",
              "      <td>0.000390</td>\n",
              "      <td>0.000032</td>\n",
              "      <td>4.805057e+06</td>\n",
              "      <td>2.979898e+05</td>\n",
              "    </tr>\n",
              "    <tr>\n",
              "      <th>10</th>\n",
              "      <td>0.078032</td>\n",
              "      <td>0.002634</td>\n",
              "      <td>1.641590e+07</td>\n",
              "      <td>3.277713e+06</td>\n",
              "      <td>mae</td>\n",
              "      <td>auto</td>\n",
              "      <td>50</td>\n",
              "      <td>{'criterion': 'mae', 'max_features': 'auto', '...</td>\n",
              "      <td>18</td>\n",
              "      <td>9.702891e+06</td>\n",
              "      <td>3.799311e+06</td>\n",
              "      <td>2.004608e+07</td>\n",
              "      <td>3.110591e+06</td>\n",
              "      <td>1.970215e+07</td>\n",
              "      <td>2.923237e+06</td>\n",
              "      <td>0.001132</td>\n",
              "      <td>0.000017</td>\n",
              "      <td>4.820222e+06</td>\n",
              "      <td>3.766730e+05</td>\n",
              "    </tr>\n",
              "    <tr>\n",
              "      <th>11</th>\n",
              "      <td>0.154022</td>\n",
              "      <td>0.004334</td>\n",
              "      <td>1.678149e+07</td>\n",
              "      <td>3.198743e+06</td>\n",
              "      <td>mae</td>\n",
              "      <td>auto</td>\n",
              "      <td>100</td>\n",
              "      <td>{'criterion': 'mae', 'max_features': 'auto', '...</td>\n",
              "      <td>17</td>\n",
              "      <td>1.111131e+07</td>\n",
              "      <td>3.702301e+06</td>\n",
              "      <td>2.075205e+07</td>\n",
              "      <td>3.340432e+06</td>\n",
              "      <td>1.865292e+07</td>\n",
              "      <td>2.553494e+06</td>\n",
              "      <td>0.001258</td>\n",
              "      <td>0.000028</td>\n",
              "      <td>4.158083e+06</td>\n",
              "      <td>4.795804e+05</td>\n",
              "    </tr>\n",
              "    <tr>\n",
              "      <th>12</th>\n",
              "      <td>0.012908</td>\n",
              "      <td>0.001012</td>\n",
              "      <td>1.944302e+07</td>\n",
              "      <td>4.515368e+06</td>\n",
              "      <td>mae</td>\n",
              "      <td>sqrt</td>\n",
              "      <td>10</td>\n",
              "      <td>{'criterion': 'mae', 'max_features': 'sqrt', '...</td>\n",
              "      <td>2</td>\n",
              "      <td>1.508097e+07</td>\n",
              "      <td>6.266884e+06</td>\n",
              "      <td>2.328609e+07</td>\n",
              "      <td>3.397415e+06</td>\n",
              "      <td>2.009418e+07</td>\n",
              "      <td>3.881805e+06</td>\n",
              "      <td>0.000071</td>\n",
              "      <td>0.000055</td>\n",
              "      <td>3.388673e+06</td>\n",
              "      <td>1.254197e+06</td>\n",
              "    </tr>\n",
              "    <tr>\n",
              "      <th>13</th>\n",
              "      <td>0.059213</td>\n",
              "      <td>0.002479</td>\n",
              "      <td>1.787556e+07</td>\n",
              "      <td>3.535480e+06</td>\n",
              "      <td>mae</td>\n",
              "      <td>sqrt</td>\n",
              "      <td>50</td>\n",
              "      <td>{'criterion': 'mae', 'max_features': 'sqrt', '...</td>\n",
              "      <td>8</td>\n",
              "      <td>1.307273e+07</td>\n",
              "      <td>3.941490e+06</td>\n",
              "      <td>2.109919e+07</td>\n",
              "      <td>3.755401e+06</td>\n",
              "      <td>1.960030e+07</td>\n",
              "      <td>2.909550e+06</td>\n",
              "      <td>0.000397</td>\n",
              "      <td>0.000032</td>\n",
              "      <td>3.500540e+06</td>\n",
              "      <td>4.490723e+05</td>\n",
              "    </tr>\n",
              "    <tr>\n",
              "      <th>14</th>\n",
              "      <td>0.116783</td>\n",
              "      <td>0.004180</td>\n",
              "      <td>1.738840e+07</td>\n",
              "      <td>3.519017e+06</td>\n",
              "      <td>mae</td>\n",
              "      <td>sqrt</td>\n",
              "      <td>100</td>\n",
              "      <td>{'criterion': 'mae', 'max_features': 'sqrt', '...</td>\n",
              "      <td>14</td>\n",
              "      <td>1.205449e+07</td>\n",
              "      <td>4.125366e+06</td>\n",
              "      <td>2.097961e+07</td>\n",
              "      <td>3.544669e+06</td>\n",
              "      <td>1.929272e+07</td>\n",
              "      <td>2.887017e+06</td>\n",
              "      <td>0.000278</td>\n",
              "      <td>0.000022</td>\n",
              "      <td>3.889198e+06</td>\n",
              "      <td>5.058792e+05</td>\n",
              "    </tr>\n",
              "    <tr>\n",
              "      <th>15</th>\n",
              "      <td>0.013081</td>\n",
              "      <td>0.001046</td>\n",
              "      <td>1.789669e+07</td>\n",
              "      <td>4.430721e+06</td>\n",
              "      <td>mae</td>\n",
              "      <td>log2</td>\n",
              "      <td>10</td>\n",
              "      <td>{'criterion': 'mae', 'max_features': 'log2', '...</td>\n",
              "      <td>7</td>\n",
              "      <td>1.421817e+07</td>\n",
              "      <td>3.801012e+06</td>\n",
              "      <td>1.941582e+07</td>\n",
              "      <td>4.625240e+06</td>\n",
              "      <td>2.016754e+07</td>\n",
              "      <td>4.865912e+06</td>\n",
              "      <td>0.000251</td>\n",
              "      <td>0.000074</td>\n",
              "      <td>2.657818e+06</td>\n",
              "      <td>4.559835e+05</td>\n",
              "    </tr>\n",
              "    <tr>\n",
              "      <th>16</th>\n",
              "      <td>0.058831</td>\n",
              "      <td>0.002505</td>\n",
              "      <td>1.781706e+07</td>\n",
              "      <td>3.520819e+06</td>\n",
              "      <td>mae</td>\n",
              "      <td>log2</td>\n",
              "      <td>50</td>\n",
              "      <td>{'criterion': 'mae', 'max_features': 'log2', '...</td>\n",
              "      <td>10</td>\n",
              "      <td>1.289908e+07</td>\n",
              "      <td>4.336931e+06</td>\n",
              "      <td>2.024232e+07</td>\n",
              "      <td>3.393507e+06</td>\n",
              "      <td>2.045880e+07</td>\n",
              "      <td>2.832020e+06</td>\n",
              "      <td>0.000181</td>\n",
              "      <td>0.000083</td>\n",
              "      <td>3.530929e+06</td>\n",
              "      <td>6.209378e+05</td>\n",
              "    </tr>\n",
              "    <tr>\n",
              "      <th>17</th>\n",
              "      <td>0.117436</td>\n",
              "      <td>0.004177</td>\n",
              "      <td>1.753106e+07</td>\n",
              "      <td>3.323339e+06</td>\n",
              "      <td>mae</td>\n",
              "      <td>log2</td>\n",
              "      <td>100</td>\n",
              "      <td>{'criterion': 'mae', 'max_features': 'log2', '...</td>\n",
              "      <td>12</td>\n",
              "      <td>1.241074e+07</td>\n",
              "      <td>3.595100e+06</td>\n",
              "      <td>2.110639e+07</td>\n",
              "      <td>3.210925e+06</td>\n",
              "      <td>1.923120e+07</td>\n",
              "      <td>3.163990e+06</td>\n",
              "      <td>0.001265</td>\n",
              "      <td>0.000011</td>\n",
              "      <td>3.753166e+06</td>\n",
              "      <td>1.931173e+05</td>\n",
              "    </tr>\n",
              "  </tbody>\n",
              "</table>\n",
              "</div>"
            ],
            "text/plain": [
              "    mean_fit_time  mean_score_time  mean_test_score  mean_train_score  \\\n",
              "0        0.011729         0.000991     1.750661e+07      3.856637e+06   \n",
              "1        0.049674         0.002575     1.827040e+07      3.093208e+06   \n",
              "2        0.097241         0.004347     1.696787e+07      2.849268e+06   \n",
              "3        0.010284         0.000990     2.098357e+07      3.798452e+06   \n",
              "4        0.046974         0.002579     1.809861e+07      2.577701e+06   \n",
              "5        0.090830         0.004203     1.719969e+07      2.579461e+06   \n",
              "6        0.010396         0.000970     1.847849e+07      3.563372e+06   \n",
              "7        0.045991         0.002527     1.760895e+07      2.873277e+06   \n",
              "8        0.092326         0.004368     1.785203e+07      2.654953e+06   \n",
              "9        0.016785         0.001110     1.939375e+07      3.676137e+06   \n",
              "10       0.078032         0.002634     1.641590e+07      3.277713e+06   \n",
              "11       0.154022         0.004334     1.678149e+07      3.198743e+06   \n",
              "12       0.012908         0.001012     1.944302e+07      4.515368e+06   \n",
              "13       0.059213         0.002479     1.787556e+07      3.535480e+06   \n",
              "14       0.116783         0.004180     1.738840e+07      3.519017e+06   \n",
              "15       0.013081         0.001046     1.789669e+07      4.430721e+06   \n",
              "16       0.058831         0.002505     1.781706e+07      3.520819e+06   \n",
              "17       0.117436         0.004177     1.753106e+07      3.323339e+06   \n",
              "\n",
              "   param_criterion param_max_features param_n_estimators  \\\n",
              "0              mse               auto                 10   \n",
              "1              mse               auto                 50   \n",
              "2              mse               auto                100   \n",
              "3              mse               sqrt                 10   \n",
              "4              mse               sqrt                 50   \n",
              "5              mse               sqrt                100   \n",
              "6              mse               log2                 10   \n",
              "7              mse               log2                 50   \n",
              "8              mse               log2                100   \n",
              "9              mae               auto                 10   \n",
              "10             mae               auto                 50   \n",
              "11             mae               auto                100   \n",
              "12             mae               sqrt                 10   \n",
              "13             mae               sqrt                 50   \n",
              "14             mae               sqrt                100   \n",
              "15             mae               log2                 10   \n",
              "16             mae               log2                 50   \n",
              "17             mae               log2                100   \n",
              "\n",
              "                                               params  rank_test_score  \\\n",
              "0   {'criterion': 'mse', 'max_features': 'auto', '...               13   \n",
              "1   {'criterion': 'mse', 'max_features': 'auto', '...                5   \n",
              "2   {'criterion': 'mse', 'max_features': 'auto', '...               16   \n",
              "3   {'criterion': 'mse', 'max_features': 'sqrt', '...                1   \n",
              "4   {'criterion': 'mse', 'max_features': 'sqrt', '...                6   \n",
              "5   {'criterion': 'mse', 'max_features': 'sqrt', '...               15   \n",
              "6   {'criterion': 'mse', 'max_features': 'log2', '...                4   \n",
              "7   {'criterion': 'mse', 'max_features': 'log2', '...               11   \n",
              "8   {'criterion': 'mse', 'max_features': 'log2', '...                9   \n",
              "9   {'criterion': 'mae', 'max_features': 'auto', '...                3   \n",
              "10  {'criterion': 'mae', 'max_features': 'auto', '...               18   \n",
              "11  {'criterion': 'mae', 'max_features': 'auto', '...               17   \n",
              "12  {'criterion': 'mae', 'max_features': 'sqrt', '...                2   \n",
              "13  {'criterion': 'mae', 'max_features': 'sqrt', '...                8   \n",
              "14  {'criterion': 'mae', 'max_features': 'sqrt', '...               14   \n",
              "15  {'criterion': 'mae', 'max_features': 'log2', '...                7   \n",
              "16  {'criterion': 'mae', 'max_features': 'log2', '...               10   \n",
              "17  {'criterion': 'mae', 'max_features': 'log2', '...               12   \n",
              "\n",
              "    split0_test_score  split0_train_score  split1_test_score  \\\n",
              "0        1.253486e+07        5.395193e+06       2.220564e+07   \n",
              "1        1.345362e+07        3.047585e+06       2.311056e+07   \n",
              "2        1.239648e+07        3.645971e+06       1.994207e+07   \n",
              "3        1.669221e+07        5.217064e+06       2.179593e+07   \n",
              "4        1.274718e+07        2.904046e+06       2.178538e+07   \n",
              "5        1.233423e+07        3.144151e+06       2.038781e+07   \n",
              "6        1.352810e+07        5.588639e+06       2.081781e+07   \n",
              "7        1.335481e+07        3.065205e+06       2.133675e+07   \n",
              "8        1.393410e+07        3.237331e+06       2.054638e+07   \n",
              "9        1.276052e+07        3.711018e+06       2.361051e+07   \n",
              "10       9.702891e+06        3.799311e+06       2.004608e+07   \n",
              "11       1.111131e+07        3.702301e+06       2.075205e+07   \n",
              "12       1.508097e+07        6.266884e+06       2.328609e+07   \n",
              "13       1.307273e+07        3.941490e+06       2.109919e+07   \n",
              "14       1.205449e+07        4.125366e+06       2.097961e+07   \n",
              "15       1.421817e+07        3.801012e+06       1.941582e+07   \n",
              "16       1.289908e+07        4.336931e+06       2.024232e+07   \n",
              "17       1.241074e+07        3.595100e+06       2.110639e+07   \n",
              "\n",
              "    split1_train_score  split2_test_score  split2_train_score  std_fit_time  \\\n",
              "0         3.105362e+06       1.792997e+07        3.069357e+06      0.000669   \n",
              "1         3.630208e+06       1.839298e+07        2.601831e+06      0.000445   \n",
              "2         2.788730e+06       1.870357e+07        2.113103e+06      0.000163   \n",
              "3         3.325419e+06       2.459261e+07        2.852874e+06      0.000072   \n",
              "4         2.491011e+06       1.992542e+07        2.338047e+06      0.001308   \n",
              "5         2.551242e+06       1.902447e+07        2.042991e+06      0.001072   \n",
              "6         2.296025e+06       2.123958e+07        2.805453e+06      0.000045   \n",
              "7         2.774556e+06       1.826422e+07        2.780069e+06      0.000147   \n",
              "8         2.471361e+06       1.919435e+07        2.256168e+06      0.001460   \n",
              "9         4.022406e+06       2.201123e+07        3.294987e+06      0.000390   \n",
              "10        3.110591e+06       1.970215e+07        2.923237e+06      0.001132   \n",
              "11        3.340432e+06       1.865292e+07        2.553494e+06      0.001258   \n",
              "12        3.397415e+06       2.009418e+07        3.881805e+06      0.000071   \n",
              "13        3.755401e+06       1.960030e+07        2.909550e+06      0.000397   \n",
              "14        3.544669e+06       1.929272e+07        2.887017e+06      0.000278   \n",
              "15        4.625240e+06       2.016754e+07        4.865912e+06      0.000251   \n",
              "16        3.393507e+06       2.045880e+07        2.832020e+06      0.000181   \n",
              "17        3.210925e+06       1.923120e+07        3.163990e+06      0.001265   \n",
              "\n",
              "    std_score_time  std_test_score  std_train_score  \n",
              "0         0.000088    3.968634e+06     1.088023e+06  \n",
              "1         0.000042    3.952770e+06     4.210709e+05  \n",
              "2         0.000018    3.319410e+06     6.272533e+05  \n",
              "3         0.000014    3.282902e+06     1.021492e+06  \n",
              "4         0.000088    3.914535e+06     2.390608e+05  \n",
              "5         0.000027    3.535773e+06     4.499891e+05  \n",
              "6         0.000028    3.557223e+06     1.447102e+06  \n",
              "7         0.000088    3.298602e+06     1.357327e+05  \n",
              "8         0.000069    2.865187e+06     4.210698e+05  \n",
              "9         0.000032    4.805057e+06     2.979898e+05  \n",
              "10        0.000017    4.820222e+06     3.766730e+05  \n",
              "11        0.000028    4.158083e+06     4.795804e+05  \n",
              "12        0.000055    3.388673e+06     1.254197e+06  \n",
              "13        0.000032    3.500540e+06     4.490723e+05  \n",
              "14        0.000022    3.889198e+06     5.058792e+05  \n",
              "15        0.000074    2.657818e+06     4.559835e+05  \n",
              "16        0.000083    3.530929e+06     6.209378e+05  \n",
              "17        0.000011    3.753166e+06     1.931173e+05  "
            ]
          },
          "metadata": {
            "tags": []
          },
          "execution_count": 323
        }
      ]
    },
    {
      "metadata": {
        "id": "meypF2BqYtU2",
        "colab_type": "code",
        "colab": {
          "base_uri": "https://localhost:8080/",
          "height": 724
        },
        "outputId": "f8d2e56c-b296-4adc-f606-11adbc815f16"
      },
      "cell_type": "code",
      "source": [
        "print('Scores of Parameters tested:\\n') \n",
        "\n",
        "# get scores of parameters tested and display as a dataframe\n",
        "scores_df = pd.DataFrame(grid_fit.grid_scores_) \n",
        "display(scores_df)"
      ],
      "execution_count": 324,
      "outputs": [
        {
          "output_type": "stream",
          "text": [
            "Scores of Parameters tested:\n",
            "\n"
          ],
          "name": "stdout"
        },
        {
          "output_type": "stream",
          "text": [
            "/usr/local/lib/python3.6/dist-packages/sklearn/model_selection/_search.py:762: DeprecationWarning: The grid_scores_ attribute was deprecated in version 0.18 in favor of the more elaborate cv_results_ attribute. The grid_scores_ attribute will not be available from 0.20\n",
            "  DeprecationWarning)\n"
          ],
          "name": "stderr"
        },
        {
          "output_type": "display_data",
          "data": {
            "text/html": [
              "<div>\n",
              "<style scoped>\n",
              "    .dataframe tbody tr th:only-of-type {\n",
              "        vertical-align: middle;\n",
              "    }\n",
              "\n",
              "    .dataframe tbody tr th {\n",
              "        vertical-align: top;\n",
              "    }\n",
              "\n",
              "    .dataframe thead th {\n",
              "        text-align: right;\n",
              "    }\n",
              "</style>\n",
              "<table border=\"1\" class=\"dataframe\">\n",
              "  <thead>\n",
              "    <tr style=\"text-align: right;\">\n",
              "      <th></th>\n",
              "      <th>parameters</th>\n",
              "      <th>mean_validation_score</th>\n",
              "      <th>cv_validation_scores</th>\n",
              "    </tr>\n",
              "  </thead>\n",
              "  <tbody>\n",
              "    <tr>\n",
              "      <th>0</th>\n",
              "      <td>{'criterion': 'mse', 'max_features': 'auto', '...</td>\n",
              "      <td>1.750661e+07</td>\n",
              "      <td>[12534861.115588233, 22205638.94151515, 179299...</td>\n",
              "    </tr>\n",
              "    <tr>\n",
              "      <th>1</th>\n",
              "      <td>{'criterion': 'mse', 'max_features': 'auto', '...</td>\n",
              "      <td>1.827040e+07</td>\n",
              "      <td>[13453617.644894116, 23110560.335030302, 18392...</td>\n",
              "    </tr>\n",
              "    <tr>\n",
              "      <th>2</th>\n",
              "      <td>{'criterion': 'mse', 'max_features': 'auto', '...</td>\n",
              "      <td>1.696787e+07</td>\n",
              "      <td>[12396484.569641175, 19942070.14221212, 187035...</td>\n",
              "    </tr>\n",
              "    <tr>\n",
              "      <th>3</th>\n",
              "      <td>{'criterion': 'mse', 'max_features': 'sqrt', '...</td>\n",
              "      <td>2.098357e+07</td>\n",
              "      <td>[16692212.422647059, 21795934.53090909, 245926...</td>\n",
              "    </tr>\n",
              "    <tr>\n",
              "      <th>4</th>\n",
              "      <td>{'criterion': 'mse', 'max_features': 'sqrt', '...</td>\n",
              "      <td>1.809861e+07</td>\n",
              "      <td>[12747184.882941175, 21785383.531163633, 19925...</td>\n",
              "    </tr>\n",
              "    <tr>\n",
              "      <th>5</th>\n",
              "      <td>{'criterion': 'mse', 'max_features': 'sqrt', '...</td>\n",
              "      <td>1.719969e+07</td>\n",
              "      <td>[12334234.972920585, 20387807.106551513, 19024...</td>\n",
              "    </tr>\n",
              "    <tr>\n",
              "      <th>6</th>\n",
              "      <td>{'criterion': 'mse', 'max_features': 'log2', '...</td>\n",
              "      <td>1.847849e+07</td>\n",
              "      <td>[13528102.711470589, 20817805.034545455, 21239...</td>\n",
              "    </tr>\n",
              "    <tr>\n",
              "      <th>7</th>\n",
              "      <td>{'criterion': 'mse', 'max_features': 'log2', '...</td>\n",
              "      <td>1.760895e+07</td>\n",
              "      <td>[13354806.803988235, 21336752.948848486, 18264...</td>\n",
              "    </tr>\n",
              "    <tr>\n",
              "      <th>8</th>\n",
              "      <td>{'criterion': 'mse', 'max_features': 'log2', '...</td>\n",
              "      <td>1.785203e+07</td>\n",
              "      <td>[13934099.972144118, 20546378.75339091, 191943...</td>\n",
              "    </tr>\n",
              "    <tr>\n",
              "      <th>9</th>\n",
              "      <td>{'criterion': 'mae', 'max_features': 'auto', '...</td>\n",
              "      <td>1.939375e+07</td>\n",
              "      <td>[12760516.13647059, 23610505.78621212, 2201123...</td>\n",
              "    </tr>\n",
              "    <tr>\n",
              "      <th>10</th>\n",
              "      <td>{'criterion': 'mae', 'max_features': 'auto', '...</td>\n",
              "      <td>1.641590e+07</td>\n",
              "      <td>[9702890.87405294, 20046077.339430302, 1970214...</td>\n",
              "    </tr>\n",
              "    <tr>\n",
              "      <th>11</th>\n",
              "      <td>{'criterion': 'mae', 'max_features': 'auto', '...</td>\n",
              "      <td>1.678149e+07</td>\n",
              "      <td>[11111305.950025002, 20752054.973832574, 18652...</td>\n",
              "    </tr>\n",
              "    <tr>\n",
              "      <th>12</th>\n",
              "      <td>{'criterion': 'mae', 'max_features': 'sqrt', '...</td>\n",
              "      <td>1.944302e+07</td>\n",
              "      <td>[15080970.51147059, 23286094.615151517, 200941...</td>\n",
              "    </tr>\n",
              "    <tr>\n",
              "      <th>13</th>\n",
              "      <td>{'criterion': 'mae', 'max_features': 'sqrt', '...</td>\n",
              "      <td>1.787556e+07</td>\n",
              "      <td>[13072731.254788235, 21099185.628960606, 19600...</td>\n",
              "    </tr>\n",
              "    <tr>\n",
              "      <th>14</th>\n",
              "      <td>{'criterion': 'mae', 'max_features': 'sqrt', '...</td>\n",
              "      <td>1.738840e+07</td>\n",
              "      <td>[12054493.668372795, 20979614.319516666, 19292...</td>\n",
              "    </tr>\n",
              "    <tr>\n",
              "      <th>15</th>\n",
              "      <td>{'criterion': 'mae', 'max_features': 'log2', '...</td>\n",
              "      <td>1.789669e+07</td>\n",
              "      <td>[14218171.504705882, 19415820.33969697, 201675...</td>\n",
              "    </tr>\n",
              "    <tr>\n",
              "      <th>16</th>\n",
              "      <td>{'criterion': 'mae', 'max_features': 'log2', '...</td>\n",
              "      <td>1.781706e+07</td>\n",
              "      <td>[12899078.237635294, 20242322.345230304, 20458...</td>\n",
              "    </tr>\n",
              "    <tr>\n",
              "      <th>17</th>\n",
              "      <td>{'criterion': 'mae', 'max_features': 'log2', '...</td>\n",
              "      <td>1.753106e+07</td>\n",
              "      <td>[12410738.744161028, 21106386.945457574, 19231...</td>\n",
              "    </tr>\n",
              "  </tbody>\n",
              "</table>\n",
              "</div>"
            ],
            "text/plain": [
              "                                           parameters  mean_validation_score  \\\n",
              "0   {'criterion': 'mse', 'max_features': 'auto', '...           1.750661e+07   \n",
              "1   {'criterion': 'mse', 'max_features': 'auto', '...           1.827040e+07   \n",
              "2   {'criterion': 'mse', 'max_features': 'auto', '...           1.696787e+07   \n",
              "3   {'criterion': 'mse', 'max_features': 'sqrt', '...           2.098357e+07   \n",
              "4   {'criterion': 'mse', 'max_features': 'sqrt', '...           1.809861e+07   \n",
              "5   {'criterion': 'mse', 'max_features': 'sqrt', '...           1.719969e+07   \n",
              "6   {'criterion': 'mse', 'max_features': 'log2', '...           1.847849e+07   \n",
              "7   {'criterion': 'mse', 'max_features': 'log2', '...           1.760895e+07   \n",
              "8   {'criterion': 'mse', 'max_features': 'log2', '...           1.785203e+07   \n",
              "9   {'criterion': 'mae', 'max_features': 'auto', '...           1.939375e+07   \n",
              "10  {'criterion': 'mae', 'max_features': 'auto', '...           1.641590e+07   \n",
              "11  {'criterion': 'mae', 'max_features': 'auto', '...           1.678149e+07   \n",
              "12  {'criterion': 'mae', 'max_features': 'sqrt', '...           1.944302e+07   \n",
              "13  {'criterion': 'mae', 'max_features': 'sqrt', '...           1.787556e+07   \n",
              "14  {'criterion': 'mae', 'max_features': 'sqrt', '...           1.738840e+07   \n",
              "15  {'criterion': 'mae', 'max_features': 'log2', '...           1.789669e+07   \n",
              "16  {'criterion': 'mae', 'max_features': 'log2', '...           1.781706e+07   \n",
              "17  {'criterion': 'mae', 'max_features': 'log2', '...           1.753106e+07   \n",
              "\n",
              "                                 cv_validation_scores  \n",
              "0   [12534861.115588233, 22205638.94151515, 179299...  \n",
              "1   [13453617.644894116, 23110560.335030302, 18392...  \n",
              "2   [12396484.569641175, 19942070.14221212, 187035...  \n",
              "3   [16692212.422647059, 21795934.53090909, 245926...  \n",
              "4   [12747184.882941175, 21785383.531163633, 19925...  \n",
              "5   [12334234.972920585, 20387807.106551513, 19024...  \n",
              "6   [13528102.711470589, 20817805.034545455, 21239...  \n",
              "7   [13354806.803988235, 21336752.948848486, 18264...  \n",
              "8   [13934099.972144118, 20546378.75339091, 191943...  \n",
              "9   [12760516.13647059, 23610505.78621212, 2201123...  \n",
              "10  [9702890.87405294, 20046077.339430302, 1970214...  \n",
              "11  [11111305.950025002, 20752054.973832574, 18652...  \n",
              "12  [15080970.51147059, 23286094.615151517, 200941...  \n",
              "13  [13072731.254788235, 21099185.628960606, 19600...  \n",
              "14  [12054493.668372795, 20979614.319516666, 19292...  \n",
              "15  [14218171.504705882, 19415820.33969697, 201675...  \n",
              "16  [12899078.237635294, 20242322.345230304, 20458...  \n",
              "17  [12410738.744161028, 21106386.945457574, 19231...  "
            ]
          },
          "metadata": {
            "tags": []
          }
        }
      ]
    },
    {
      "metadata": {
        "id": "vXph8I_TYtmX",
        "colab_type": "code",
        "colab": {
          "base_uri": "https://localhost:8080/",
          "height": 122
        },
        "outputId": "b61b4952-4541-4b71-b4cf-6f89791d5027"
      },
      "cell_type": "code",
      "source": [
        "# Get the estimator, predictions and metric score from best model\n",
        "best_model = grid_fit.best_estimator_\n",
        "best_model"
      ],
      "execution_count": 325,
      "outputs": [
        {
          "output_type": "execute_result",
          "data": {
            "text/plain": [
              "RandomForestRegressor(bootstrap=True, criterion='mse', max_depth=None,\n",
              "           max_features='sqrt', max_leaf_nodes=None,\n",
              "           min_impurity_decrease=0.0, min_impurity_split=None,\n",
              "           min_samples_leaf=1, min_samples_split=2,\n",
              "           min_weight_fraction_leaf=0.0, n_estimators=10, n_jobs=1,\n",
              "           oob_score=False, random_state=None, verbose=0, warm_start=False)"
            ]
          },
          "metadata": {
            "tags": []
          },
          "execution_count": 325
        }
      ]
    },
    {
      "metadata": {
        "id": "XTmuHfj3vFgy",
        "colab_type": "code",
        "colab": {}
      },
      "cell_type": "code",
      "source": [
        "# get predictions using the new model\n",
        "predictions_best = best_model.predict(X_test)"
      ],
      "execution_count": 0,
      "outputs": []
    },
    {
      "metadata": {
        "id": "ZJo-prOXZgot",
        "colab_type": "code",
        "colab": {
          "base_uri": "https://localhost:8080/",
          "height": 36
        },
        "outputId": "89c031b3-9625-4c38-8754-ae5b14aa81b4"
      },
      "cell_type": "code",
      "source": [
        "# get a score by comparing our predict against actual\n",
        "score_cv = np.sqrt(metrics.mean_squared_error(y_test,predictions_best))\n",
        "\n",
        "# print out the score \n",
        "print('RMSE score for {} is:'.format(best_model.__class__.__name__),np.round((score_cv), decimals=2))"
      ],
      "execution_count": 327,
      "outputs": [
        {
          "output_type": "stream",
          "text": [
            "RMSE score for RandomForestRegressor is: 4332.13\n"
          ],
          "name": "stdout"
        }
      ]
    },
    {
      "metadata": {
        "id": "mSfIWon-SjtZ",
        "colab_type": "text"
      },
      "cell_type": "markdown",
      "source": [
        "**EXERCISE 4.1:**  Apply grid search to model you built at **3.3**, remembering to amend the dictionary to match the parameters taken by your model\n",
        "\n",
        "\n",
        "\n",
        "---\n",
        "\n",
        "\n",
        "\n",
        "**ANSWER:**\n",
        "*Use code cell below*\n"
      ]
    },
    {
      "metadata": {
        "id": "i-R1B2yMS37n",
        "colab_type": "code",
        "colab": {}
      },
      "cell_type": "code",
      "source": [
        "# code here\n",
        "from sklearn.svm import SVR\n",
        "svr = SVR()"
      ],
      "execution_count": 0,
      "outputs": []
    },
    {
      "metadata": {
        "id": "MCXZ-4t4z0eb",
        "colab_type": "code",
        "colab": {}
      },
      "cell_type": "code",
      "source": [
        "# we need to specify the parameters we want to tune, as a dictionary \n",
        "parameters_svr = {'kernel': ['linear','rbf']}"
      ],
      "execution_count": 0,
      "outputs": []
    },
    {
      "metadata": {
        "id": "HRWb04Tl0DZG",
        "colab_type": "code",
        "colab": {}
      },
      "cell_type": "code",
      "source": [
        "# we create our gridsearch object \n",
        "grid_obj_svr = GridSearchCV(svr, parameters_svr)#, scoring=scorer)\n",
        "grid_obj_svr"
      ],
      "execution_count": 0,
      "outputs": []
    },
    {
      "metadata": {
        "id": "TSnOCYCk0LL7",
        "colab_type": "code",
        "colab": {}
      },
      "cell_type": "code",
      "source": [
        "# fit to data\n",
        "grid_fit_svr = grid_obj_svr.fit(X_train, y_train)"
      ],
      "execution_count": 0,
      "outputs": []
    },
    {
      "metadata": {
        "id": "C21cBaaK0LQH",
        "colab_type": "code",
        "colab": {}
      },
      "cell_type": "code",
      "source": [
        "grid"
      ],
      "execution_count": 0,
      "outputs": []
    },
    {
      "metadata": {
        "id": "37i05OPxV9GL",
        "colab_type": "text"
      },
      "cell_type": "markdown",
      "source": [
        "#### 4.2 Cross-Validation using K-Fold "
      ]
    },
    {
      "metadata": {
        "id": "LZ0UOPesOh-m",
        "colab_type": "text"
      },
      "cell_type": "markdown",
      "source": [
        "**EXERCISE 4.2 (OPTIONAL):** Look up K-Fold Cross-Validation and implement it on our dataset and run the best performing model to see if the score is improved. Take a look at [this](https://sebastianraschka.com/blog/2016/model-evaluation-selection-part3.html) article for more information.\n",
        "\n",
        "---\n",
        "\n",
        "**ANSWER:**\n",
        "\n",
        "\n"
      ]
    },
    {
      "metadata": {
        "id": "uOvIY-rCV9da",
        "colab_type": "code",
        "colab": {}
      },
      "cell_type": "code",
      "source": [
        "# code here \n",
        " "
      ],
      "execution_count": 0,
      "outputs": []
    },
    {
      "metadata": {
        "id": "bjNlPfjSS6EE",
        "colab_type": "text"
      },
      "cell_type": "markdown",
      "source": [
        "### 5. Wrapping up\n",
        "* We have covered: \n",
        "  * What Machine Learning is\n",
        "  * What approach to take to solving machine learning problems\n",
        "  * Loading and processing data\n",
        "  * Splitting data into traing and testing sets\n",
        "* Ideas for additional exercises, *which we can cover via slack if there is demand*:\n",
        "    * Build a *pipeline* to manage all the steps outlined above\n",
        "    * Use *Ensemble* methods to combine different ML models \n",
        "    * Undertake *Exploratory Data Analysis* to understand the dataset better\n",
        "    * Use *Feature Engineering* to provide additional inputs in to the model"
      ]
    },
    {
      "metadata": {
        "id": "JPoDGBr11KbD",
        "colab_type": "text"
      },
      "cell_type": "markdown",
      "source": [
        "## End of Day 1!"
      ]
    },
    {
      "metadata": {
        "id": "3Cb9fVKITfyq",
        "colab_type": "text"
      },
      "cell_type": "markdown",
      "source": [
        "## Day 2: Deep Learning \n",
        "\n",
        "**Structure of Day 2**\n",
        "1. Introduction to Deep Learning and Keras\n",
        "2. Build DL model, train and evaluate the model \n",
        "3. Refine model "
      ]
    },
    {
      "metadata": {
        "id": "OeuN9HVtUhMB",
        "colab_type": "text"
      },
      "cell_type": "markdown",
      "source": [
        "### 1. Introduction to Deep Learning and Keras\n",
        "**AIM:** \n",
        "* To cover the *basics* of Deep Learning (notes largely taken from 'Deep Learning wtih Python' by Francois Chollet)\n",
        "* To suggest further reading to explore the topic further  \n",
        "* To introduce Keras \n",
        "\n",
        "---\n",
        "\n",
        "**Deep Learning** \n",
        "* Deep Learning is a mathematical framework for learning representations from data.\n",
        "* The *deep* refers to the number of layers within a model: the layers puts an emphasis on learning successive layers of increasingly meaningful representations from the data. \n",
        "\n",
        "![alt text](https://i.stack.imgur.com/iHW2o.jpg)"
      ]
    },
    {
      "metadata": {
        "id": "YekKM6aYGmP6",
        "colab_type": "text"
      },
      "cell_type": "markdown",
      "source": [
        "* A Deep Learning model will include the following aspects (which we can specify in order to find the optimal model):\n",
        "  \n",
        "  * *Number of layers:* The core building block of neural networks is the layer, a data-processing module that you can think of as a filter for data. Some data goes in, and it comes out in a more useful form. Specifically, layers extract representations out of the data fed into them. The specification of what a layer does to its input data is stored in the layer’s weights, which in essence are a bunch of numbers. In this context, learning means finding a set of values for the weights of all layers in a network, such that the network will correctly map example inputs to their associated targets.\n",
        "\n",
        "  * *The objective loss function:* How the network will be able to measure its performance on the training data - how far this output is from what you expected - and thus how it will be able to steer itself in the right direction.The loss function takes the predictions of the network and the true target and computes a distance score, capturing how well the network has done on this specific example. \n",
        "  \n",
        "  * *The type of optimizer:* The mechanism through which the network will update itself based on the data it sees and its loss function.An optimizer will adjust the value of the weights a little, in a direction that will lower the loss score for the current example, using the Backpropagation algorithm.\n",
        "  \n",
        "  * *How we train the model on the data:* Initially, the weights of the network are assigned random values, so the network merely implements a series of random transformations. Its output is far from what it should ideally be, and the loss score is accordingly very high. But with every example the network processes, the weights are adjusted a little in the correct direction, and the loss score decreases. This is the training loop, which, repeated a sufficient number of times (typically tens of iterations over thousands of examples), yields weight values that minimize the loss function. A network with a minimal loss is one for which the outputs are as close as they can be to the targets: a trained network. Once again, it’s a simple mechanism that, once scaled, ends up looking like magic.\n",
        "  \n",
        "  \n",
        "* In addition, we also need to think about the type of *activation functions* we use. These define the ouput of node within a layer of the model, and helps the Deep Learning model move from linear representation of the data to non-linearity. \n",
        "* It is considered an art to get the right model, something which requires experimentation with the elements of the model covered above.  \n",
        "* Deep Learning uses linear algebra (matrix multiplication) to model the inputs to the outputs, and caculus (back propogation) to determine the error and update the model during each round of training. This is not covered here.  A free online course in linear algebra for deep learning is [here](http://www.fast.ai/2017/07/17/num-lin-alg/) and for calculus is [here](http://explained.ai/matrix-calculus/index.html?utm_medium=email&utm_source=topic+optin&utm_campaign=awareness&utm_content=20180709+ai+nl&mkt_tok=eyJpIjoiT1RBeE5qTmpaREZtWWpreCIsInQiOiJ1dithMG5IcDBsa0p3YjRVWFVGenpmOG5iQ0syM0M0Q3hMT3d3TUdMWkMwME1odElRTUxoRldmem5rRlhyK2d1YUROeGU0M0VlQ1VyeVJyY2o5RDFyWWFDdGRSWDVCcVp4aTJ3ajM1eDUyVUY4ZVFvZFVvRVduYSs1NmladnRBZSJ9). \n",
        "* Many different types of deep learning models, e.g. convolutional neural networks, which have been shown to be better at computer vision tasks, and recurrent neural networks, which are used in NLP tasks. We will be building a feedforward deep learning model, which is basic but sufficient for the problem we are trying to solve. \n",
        "* See this series of [articles](https://medium.com/@ageitgey/machine-learning-is-fun-part-3-deep-learning-and-convolutional-neural-networks-f40359318721) and [videos](https://www.youtube.com/watch?v=aircAruvnKk) for a good introduction to Deep Learning (and Machine Learning more generally). The [fast.ai](http://course.fast.ai) Deep Learning Course would be a good next step for anyone interested in doing more deep learning, and this [book](http://www.deeplearningbook.org) is the reference book for the subject (and is free).\n",
        "\n",
        "\n",
        "**Keras**\n",
        "* There are a number of Deep Learning libraries available, such as `Tensorflow` and `PyTorch`. We will be using `Keras`, which is a high level Deep Learning library. `Keras` can use other Deep Learning libraries as its `backend`, meaning we can use the same `Keras` interface to access these different libraries. For this tutorial we will be using `Tensorflow` as the backend.\n",
        "* `Keras` makes it straightforward to build our model, and we will cover operations to add layers, specify our activation functions, optimizer, loss functions and metrics, tailor our training and add regularization to our models. \n",
        "* The best places to learn more about `Keras` include the [Keras Blog](https://blog.keras.io) and the book [Deep Learning with Python](https://www.amazon.co.uk/Deep-Learning-Python-Francois-Chollet/dp/1617294438/ref=sr_1_1?ie=UTF8&qid=1537089319&sr=8-1&keywords=deep+learning+with+python), written by the head of the `Keras` project.."
      ]
    },
    {
      "metadata": {
        "id": "oCpXk7q6CWsx",
        "colab_type": "text"
      },
      "cell_type": "markdown",
      "source": [
        "### 2. Build Model \n",
        "**AIM:**\n",
        "* To build our first Deep Learning Model and get a feel for `Keras` \n",
        "\n",
        "---\n",
        "\n",
        "* In order to build a model, we need to:\n",
        "  * Define the model (its layers, activation functions, and number of 'neurons')\n",
        "  * Compile the model, by specifying the loss, optimizer and metrics we will use to update the model during training \n",
        "  * Fit the model to the data, and specify how we will train it \n",
        "  "
      ]
    },
    {
      "metadata": {
        "id": "avn0sxbU7AsU",
        "colab_type": "text"
      },
      "cell_type": "markdown",
      "source": [
        "### 2.1 Define Model "
      ]
    },
    {
      "metadata": {
        "id": "8SUB_Mo7crGX",
        "colab_type": "code",
        "colab": {}
      },
      "cell_type": "code",
      "source": [
        "# import statements \n",
        "import tensorflow as tf\n",
        "from keras.models import Sequential\n",
        "from keras.layers import Dense\n",
        "from keras.layers import Dropout\n",
        "from keras.utils import np_utils"
      ],
      "execution_count": 0,
      "outputs": []
    },
    {
      "metadata": {
        "id": "ENTYqw197aKo",
        "colab_type": "text"
      },
      "cell_type": "markdown",
      "source": [
        "**EXERCISE 2.1:**  \n",
        "a) Specify the input dimension for the first layer, and the output size for the final layer, then run the code to define the model and see the summary of the model\n",
        "\n",
        "b) Go through below and comment line by line what you think is happening. Look at the [documentation](https://keras.io/getting-started/sequential-model-guide/) to understand this better, and see what other parameters are available to us. See [this](https://stackoverflow.com/questions/44747343/keras-input-explanation-input-shape-units-batch-size-dim-etc) too for more information. \n",
        "\n",
        "---\n",
        "\n",
        "**ANSWER:**"
      ]
    },
    {
      "metadata": {
        "id": "iaNF339At4e9",
        "colab_type": "code",
        "colab": {}
      },
      "cell_type": "code",
      "source": [
        "# see Exercise 2.1: What input dimensions are required? \n",
        "input_dim = X_train.shape[1]\n",
        "# see Exercise 2.1: What output size do we need to specify? \n",
        "output_size = 1"
      ],
      "execution_count": 0,
      "outputs": []
    },
    {
      "metadata": {
        "id": "ijp6sa7iCapO",
        "colab_type": "code",
        "colab": {
          "base_uri": "https://localhost:8080/",
          "height": 244
        },
        "outputId": "3e9e3187-1bf0-4bf2-ab5d-8f1727db1d8c"
      },
      "cell_type": "code",
      "source": [
        "# Define model\n",
        "# Sequential is a simple, linearly stacked model - see links for further information on this \n",
        "model = Sequential()\n",
        "# This is out first layer, and the only time we need to specify the input dimensions of a layer\n",
        "model.add(Dense(100, input_dim=input_dim, activation= \"relu\"))\n",
        "# This is our second, 'hidden' layer. What other parameters are available to use when adding layers?  \n",
        "model.add(Dense(50, activation= \"relu\"))\n",
        "# This is our output layer\n",
        "model.add(Dense(output_size))\n",
        "# We can print the model summary here \n",
        "model.summary() "
      ],
      "execution_count": 330,
      "outputs": [
        {
          "output_type": "stream",
          "text": [
            "_________________________________________________________________\n",
            "Layer (type)                 Output Shape              Param #   \n",
            "=================================================================\n",
            "dense_4 (Dense)              (None, 100)               1000      \n",
            "_________________________________________________________________\n",
            "dense_5 (Dense)              (None, 50)                5050      \n",
            "_________________________________________________________________\n",
            "dense_6 (Dense)              (None, 1)                 51        \n",
            "=================================================================\n",
            "Total params: 6,101\n",
            "Trainable params: 6,101\n",
            "Non-trainable params: 0\n",
            "_________________________________________________________________\n"
          ],
          "name": "stdout"
        }
      ]
    },
    {
      "metadata": {
        "id": "c08KkJMS7IKo",
        "colab_type": "text"
      },
      "cell_type": "markdown",
      "source": [
        "#### 2.2 Compile and Fit Model"
      ]
    },
    {
      "metadata": {
        "id": "Jo6yLJ7yChAI",
        "colab_type": "code",
        "colab": {}
      },
      "cell_type": "code",
      "source": [
        "# Compile model\n",
        "# here we have a number of options for each parameter\n",
        "model.compile(loss= \"mean_squared_error\" , optimizer=\"adam\", metrics=[\"mean_squared_error\"])"
      ],
      "execution_count": 0,
      "outputs": []
    },
    {
      "metadata": {
        "id": "l23m9rIQYxgn",
        "colab_type": "code",
        "colab": {
          "base_uri": "https://localhost:8080/",
          "height": 52
        },
        "outputId": "182989be-54c3-4c6e-f674-3212a7ebb1bb"
      },
      "cell_type": "code",
      "source": [
        "## before fitting the model, let's create a validation set\n",
        "\n",
        "# remind ourselves of the training set shape\n",
        "print(X_train.shape)\n",
        "print(y_train.shape)"
      ],
      "execution_count": 332,
      "outputs": [
        {
          "output_type": "stream",
          "text": [
            "(385047, 9)\n",
            "(385047,)\n"
          ],
          "name": "stdout"
        }
      ]
    },
    {
      "metadata": {
        "id": "ZBJwNvEvZInT",
        "colab_type": "code",
        "colab": {}
      },
      "cell_type": "code",
      "source": [
        "# partition off X_train in X_train and X_val\n",
        "X_train = X_train[:3000000]\n",
        "X_val = X_train[300000:]\n",
        "\n",
        "# and do the same for y_train \n",
        "y_train = y_train[:3000000]\n",
        "y_val = y_train[300000:]"
      ],
      "execution_count": 0,
      "outputs": []
    },
    {
      "metadata": {
        "id": "jMpWT_OyCpAR",
        "colab_type": "code",
        "colab": {
          "base_uri": "https://localhost:8080/",
          "height": 1020
        },
        "outputId": "54bf935f-449d-4147-ab06-c4f03188498c"
      },
      "cell_type": "code",
      "source": [
        "# Fit Model\n",
        "# epochs defines how many times we will train the model on the data\n",
        "epochs = 10\n",
        "# each epoch takes around 1 minute. Run with 1 epoch to get a feel for what is happening, Evaluate Model (2.3) then increase to 5 to see how things change\n",
        "history = model.fit(X_train, y_train, epochs=epochs, validation_data=(X_val,y_val))"
      ],
      "execution_count": 334,
      "outputs": [
        {
          "output_type": "stream",
          "text": [
            "Train on 385047 samples, validate on 85047 samples\n",
            "Epoch 1/10\n",
            "385047/385047 [==============================] - 19s 49us/step - loss: 25671102.7002 - mean_squared_error: 25671102.7002 - val_loss: 20917538.8086 - val_mean_squared_error: 20917538.8086\n",
            "Epoch 2/10\n",
            "385047/385047 [==============================] - 19s 49us/step - loss: 18953682.6977 - mean_squared_error: 18953682.6977 - val_loss: 18093609.0027 - val_mean_squared_error: 18093609.0027\n",
            "Epoch 3/10\n",
            "385047/385047 [==============================] - 19s 49us/step - loss: 17831003.7870 - mean_squared_error: 17831003.7870 - val_loss: 17903350.7267 - val_mean_squared_error: 17903350.7267\n",
            "Epoch 4/10\n",
            "385047/385047 [==============================] - 19s 49us/step - loss: 17776329.1680 - mean_squared_error: 17776329.1680 - val_loss: 17868566.4822 - val_mean_squared_error: 17868566.4822\n",
            "Epoch 5/10\n",
            "385047/385047 [==============================] - 19s 48us/step - loss: 17768063.7247 - mean_squared_error: 17768063.7247 - val_loss: 17886981.3746 - val_mean_squared_error: 17886981.3746\n",
            "Epoch 6/10\n",
            "385047/385047 [==============================] - 19s 48us/step - loss: 17762622.4475 - mean_squared_error: 17762622.4475 - val_loss: 17938485.1754 - val_mean_squared_error: 17938485.1754\n",
            "Epoch 7/10\n",
            "385047/385047 [==============================] - 19s 49us/step - loss: 17758888.0085 - mean_squared_error: 17758888.0085 - val_loss: 17875605.9691 - val_mean_squared_error: 17875605.9691\n",
            "Epoch 8/10\n",
            "385047/385047 [==============================] - 19s 48us/step - loss: 17755817.8505 - mean_squared_error: 17755817.8505 - val_loss: 17865407.2081 - val_mean_squared_error: 17865407.2081\n",
            "Epoch 9/10\n",
            "385047/385047 [==============================] - 19s 49us/step - loss: 17751706.2811 - mean_squared_error: 17751706.2811 - val_loss: 17855153.5522 - val_mean_squared_error: 17855153.5522\n",
            "Epoch 10/10\n",
            "385047/385047 [==============================] - 19s 48us/step - loss: 17746577.5249 - mean_squared_error: 17746577.5249 - val_loss: 17847767.8909 - val_mean_squared_error: 17847767.8909\n"
          ],
          "name": "stdout"
        }
      ]
    },
    {
      "metadata": {
        "id": "M1GJ5j7NS-7I",
        "colab_type": "code",
        "colab": {
          "base_uri": "https://localhost:8080/",
          "height": 36
        },
        "outputId": "81ec377b-ba99-4ae6-e5c1-5e42d6d6112a"
      },
      "cell_type": "code",
      "source": [
        "# model.fit returns a history object, which contains a history dictionary about everything that happened during training \n",
        "history_dict = history.history\n",
        "history_dict.keys()"
      ],
      "execution_count": 335,
      "outputs": [
        {
          "output_type": "execute_result",
          "data": {
            "text/plain": [
              "dict_keys(['val_loss', 'val_mean_squared_error', 'loss', 'mean_squared_error'])"
            ]
          },
          "metadata": {
            "tags": []
          },
          "execution_count": 335
        }
      ]
    },
    {
      "metadata": {
        "id": "5aHGbIIXXV-9",
        "colab_type": "code",
        "colab": {
          "base_uri": "https://localhost:8080/",
          "height": 192
        },
        "outputId": "be1eb8c2-9d45-4c54-adca-02afe6747af6"
      },
      "cell_type": "code",
      "source": [
        "# for example we can access the validation loss like this\n",
        "history_dict['val_loss']"
      ],
      "execution_count": 336,
      "outputs": [
        {
          "output_type": "execute_result",
          "data": {
            "text/plain": [
              "[20917538.808635224,\n",
              " 18093609.00273966,\n",
              " 17903350.726727575,\n",
              " 17868566.482227474,\n",
              " 17886981.3745576,\n",
              " 17938485.17542065,\n",
              " 17875605.96909944,\n",
              " 17865407.208131973,\n",
              " 17855153.55224758,\n",
              " 17847767.89090738]"
            ]
          },
          "metadata": {
            "tags": []
          },
          "execution_count": 336
        }
      ]
    },
    {
      "metadata": {
        "id": "2_PCBb_bSzEP",
        "colab_type": "code",
        "colab": {
          "base_uri": "https://localhost:8080/",
          "height": 376
        },
        "outputId": "4bd801df-7cea-4538-b975-981f9aac9e6b"
      },
      "cell_type": "code",
      "source": [
        "# and use it to plot out the training performance\n",
        "loss_values = history_dict['loss']\n",
        "val_loss_values = history_dict['val_loss']\n",
        "\n",
        "epochs = range(1, len(history_dict['mean_squared_error']) + 1)\n",
        "\n",
        "plt.plot(epochs, loss_values, 'bo', label='Training loss')           \n",
        "plt.plot(epochs, val_loss_values, 'b', label='Validation loss')      \n",
        "plt.title('Training and validation loss')\n",
        "plt.xlabel('Epochs')\n",
        "plt.ylabel('Loss')\n",
        "plt.legend()\n",
        "\n",
        "plt.show()"
      ],
      "execution_count": 337,
      "outputs": [
        {
          "output_type": "display_data",
          "data": {
            "image/png": "[encoded data removed]",
            "text/plain": [
              "<matplotlib.figure.Figure at 0x7fc55f2aada0>"
            ]
          },
          "metadata": {
            "tags": []
          }
        }
      ]
    },
    {
      "metadata": {
        "id": "vEc2op9YDkjD",
        "colab_type": "text"
      },
      "cell_type": "markdown",
      "source": [
        "#### 2.3 Evaluate Model"
      ]
    },
    {
      "metadata": {
        "id": "xwlNhVMpWfLS",
        "colab_type": "code",
        "colab": {
          "base_uri": "https://localhost:8080/",
          "height": 376
        },
        "outputId": "ca8cbaa0-2ecf-4db0-c3a3-c6c4b42f714a"
      },
      "cell_type": "code",
      "source": [
        "# and evaluate the model using the scores\n",
        "plt.clf()                                      \n",
        "mse_values = history_dict['mean_squared_error']\n",
        "val_mse_values = history_dict['val_mean_squared_error']\n",
        "\n",
        "plt.plot(epochs, mse_values, 'bo', label='Training MSE')\n",
        "plt.plot(epochs, val_mse_values, 'b', label='Validation MSE')\n",
        "plt.title('Training and validation score')\n",
        "plt.xlabel('Epochs')\n",
        "plt.ylabel('Loss')\n",
        "plt.legend()\n",
        "\n",
        "plt.show()"
      ],
      "execution_count": 338,
      "outputs": [
        {
          "output_type": "display_data",
          "data": {
            "image/png": "[encoded data removed]",
            "text/plain": [
              "<matplotlib.figure.Figure at 0x7fc5622af588>"
            ]
          },
          "metadata": {
            "tags": []
          }
        }
      ]
    },
    {
      "metadata": {
        "id": "S-ihCa1nDnh2",
        "colab_type": "code",
        "colab": {
          "base_uri": "https://localhost:8080/",
          "height": 36
        },
        "outputId": "9955cce1-d2f2-4b7f-debe-96d45663a066"
      },
      "cell_type": "code",
      "source": [
        "# we can evaluate in a similar way to the machine learning models \n",
        "predict = model.predict(X_test)\n",
        "score_nn = np.sqrt(metrics.mean_squared_error(y_test,predict))\n",
        "\n",
        "print('RMSE score for {} is:'.format(model.__class__.__name__),np.round((score_nn), decimals=2))"
      ],
      "execution_count": 339,
      "outputs": [
        {
          "output_type": "stream",
          "text": [
            "RMSE score for Sequential is: 4215.91\n"
          ],
          "name": "stdout"
        }
      ]
    },
    {
      "metadata": {
        "id": "yyqYWGfXOReU",
        "colab_type": "text"
      },
      "cell_type": "markdown",
      "source": [
        "**EXERCISE 2.3:**  What are the reasons that this model might not be as good as the machine learning models we used on Day 1?\n",
        "\n",
        "---\n",
        "\n",
        "**ANSWER:**\n",
        "\n",
        "\n"
      ]
    },
    {
      "metadata": {
        "id": "nOmUo0By8D_p",
        "colab_type": "text"
      },
      "cell_type": "markdown",
      "source": [
        "### 3. Refine Model\n",
        "**AIM:** \n",
        "To understand the options for building models and refining how compile and fit models. \n",
        "\n",
        "---\n",
        "**Defining Models**\n",
        "  * We can change the number of *'neurons'* that are used at each layer of the model. This will increase or decrease the number of parameters in the model, and may result in the model over- or under-fitting.  \n",
        "  * We can add or remove *layers* within the model. Again, this will increase or decrease the number of parameters in the model, and may result in the model over- or under-fitting.  \n",
        "  * We can change the *activation functions* at each layer of the model, including (where appropriate), the output layer. Some activation functions are more suited to certain problem types, and the ones specified here are appropriate for a regression problem. See the [documention](https://keras.io/activations/) for more information.\n",
        "  \n",
        "**Regularizing Models**\n",
        "* *Weight regularization* constrains the complexity by forcing a network's weights to take only small values, which makes the distribution of weight values more regular. It’s done by adding to the loss function of the network a cost associated with having large weights. This cost will force the optimizer function to update the weights in a direction that reduces the larger weights, and can be calculated by:\n",
        "   * L1 regularization— The cost added is proportional to the absolute value of the weight coefficients.\n",
        "   * L2 regularization— The cost added is proportional to the square of the value of the weight coefficients. See [here](https://keras.io/regularizers/) for more detail.\n",
        "* *Dropout* results in some neurons being omitted from each training epoch, so that the model doesn't become reliant on certain 'neural pathways.' For each training instance, a node has a user defined probabilty of not being activated. We can specify dropout when we build our model, see the documentation and feel free to incorporate it in *Exercise 3.1*. See [here](http://www.cs.toronto.edu/~rsalakhu/papers/srivastava14a.pdf) for more detail and [here](https://keras.io/layers/core/) for how to code it, as well as another example [here](https://machinelearningmastery.com/dropout-regularization-deep-learning-models-keras/).\n",
        "  \n",
        "**Compiling Models**\n",
        "  * We can choose a range of *Optimisation*, *Loss* and *Metric* functions when compiling our models. Like activation functions, some are more suited to certain types of problems than others. See the documentation for more on [Optimizers](https://keras.io/optimizers/), [Loss](https://keras.io/losses/), and [Metrics](https://keras.io/metrics/). \n",
        "  * We can do a `Grid Search` of hyperparameters as we did in Day 1, see [here](https://machinelearningmastery.com/grid-search-hyperparameters-deep-learning-models-python-keras/) for a guide.\n",
        "  \n",
        "  \n",
        "**Refine training/fitting**\n",
        "  * The `.fit()` function contains a number of parameters that can be used to modify how we train our models. See the [documentation](https://keras.io/models/sequential/) for more details.\n",
        "  * For example, it is possible at this stage to partition a validation dataset from the training data, and to evaluate the loss and model metric at each epoch on this validation set.\n",
        "  * We can amend the number of epochs we train the model on, and also specify the number of steps (batches) per epoch, with each batch leading to a gradient update.\n",
        "  * We can also specify [Callbacks](https://keras.io/callbacks/), which are used to provide more information about how the model is trained. See [here](https://machinelearningmastery.com/check-point-deep-learning-models-keras/) for a worked example"
      ]
    },
    {
      "metadata": {
        "id": "YnUne5B08agg",
        "colab_type": "text"
      },
      "cell_type": "markdown",
      "source": [
        "**EXERCISE 3.1:**  Develop a new model (you can use the previous model as a basis for your new one), using one or more of the \n",
        "\n",
        "---\n",
        "\n",
        "**ANSWER:** *Use code cell below*"
      ]
    },
    {
      "metadata": {
        "id": "Ur2T-9DjnYlQ",
        "colab_type": "code",
        "colab": {
          "base_uri": "https://localhost:8080/",
          "height": 312
        },
        "outputId": "7256b432-e9f4-4436-86d5-9a56ac3f2c8e"
      },
      "cell_type": "code",
      "source": [
        "## TODO: Build new DL Model here\n",
        "model_1 = Sequential()\n",
        "model_1.add(Dense(256,input_dim=input_dim, activation='relu')) \n",
        "model_1.add(Dense(128,activation='relu'))\n",
        "model_1.add(Dropout(0.2))\n",
        "model_1.add(Dense(64,activation='relu'))\n",
        "model_1.add(Dense(output_size))\n",
        "model_1.summary()"
      ],
      "execution_count": 341,
      "outputs": [
        {
          "output_type": "stream",
          "text": [
            "_________________________________________________________________\n",
            "Layer (type)                 Output Shape              Param #   \n",
            "=================================================================\n",
            "dense_7 (Dense)              (None, 256)               2560      \n",
            "_________________________________________________________________\n",
            "dense_8 (Dense)              (None, 128)               32896     \n",
            "_________________________________________________________________\n",
            "dropout_1 (Dropout)          (None, 128)               0         \n",
            "_________________________________________________________________\n",
            "dense_9 (Dense)              (None, 64)                8256      \n",
            "_________________________________________________________________\n",
            "dense_10 (Dense)             (None, 1)                 65        \n",
            "=================================================================\n",
            "Total params: 43,777\n",
            "Trainable params: 43,777\n",
            "Non-trainable params: 0\n",
            "_________________________________________________________________\n"
          ],
          "name": "stdout"
        }
      ]
    },
    {
      "metadata": {
        "id": "oZJhDiwx0ybq",
        "colab_type": "code",
        "colab": {}
      },
      "cell_type": "code",
      "source": [
        "## TODO: Compile new model here \n",
        "# here we have a number of options for each parameter\n",
        "model_1.compile(loss= \"mean_squared_error\" , optimizer=\"adam\", metrics=[\"mean_squared_error\"])"
      ],
      "execution_count": 0,
      "outputs": []
    },
    {
      "metadata": {
        "id": "HXdxCMkrbafg",
        "colab_type": "code",
        "colab": {}
      },
      "cell_type": "code",
      "source": [
        "# set-up a callback here if you wish\n",
        "callback = "
      ],
      "execution_count": 0,
      "outputs": []
    },
    {
      "metadata": {
        "id": "P31Ci6W-0tIQ",
        "colab_type": "code",
        "colab": {
          "base_uri": "https://localhost:8080/",
          "height": 1020
        },
        "outputId": "08ece5e0-061a-48e2-8db2-587b2c0b9e15"
      },
      "cell_type": "code",
      "source": [
        "## TODO: Train new Model here\n",
        "epochs = 5\n",
        "history_1 = model_1.fit(X_train, y_train, epochs=epochs,validation_data=(X_val,y_val))#,callbacks=callback)   # delete callbacks argument if not used"
      ],
      "execution_count": 344,
      "outputs": [
        {
          "output_type": "stream",
          "text": [
            "Train on 385047 samples, validate on 85047 samples\n",
            "Epoch 1/5\n",
            "385047/385047 [==============================] - 28s 72us/step - loss: 18104025.1334 - mean_squared_error: 18104025.1334 - val_loss: 17684649.6255 - val_mean_squared_error: 17684649.6255\n",
            "Epoch 2/5\n",
            "385047/385047 [==============================] - 28s 72us/step - loss: 17814361.9065 - mean_squared_error: 17814361.9065 - val_loss: 17223915.4229 - val_mean_squared_error: 17223915.4229\n",
            "Epoch 3/5\n",
            "385047/385047 [==============================] - 28s 72us/step - loss: 17166990.1309 - mean_squared_error: 17166990.1309 - val_loss: 16509546.6927 - val_mean_squared_error: 16509546.6927\n",
            "Epoch 4/5\n",
            "385047/385047 [==============================] - 29s 75us/step - loss: 16655054.0561 - mean_squared_error: 16655054.0561 - val_loss: 16494438.8594 - val_mean_squared_error: 16494438.8594\n",
            "Epoch 5/5\n",
            "385047/385047 [==============================] - 29s 76us/step - loss: 15525973.2415 - mean_squared_error: 15525973.2415 - val_loss: 14436143.7620 - val_mean_squared_error: 14436143.7620\n"
          ],
          "name": "stdout"
        }
      ]
    },
    {
      "metadata": {
        "id": "aaef2NMg-aX2",
        "colab_type": "code",
        "colab": {
          "base_uri": "https://localhost:8080/",
          "height": 376
        },
        "outputId": "302e111e-4b9f-464b-f0b8-596f556e84b0"
      },
      "cell_type": "code",
      "source": [
        "# and use it to plot out the training performance\n",
        "history_dict_1 = history.history\n",
        "loss_values = history_dict_1['loss']\n",
        "val_loss_values = history_dict_1['val_loss']\n",
        "\n",
        "epochs = range(1, len(history_dict_1['mean_squared_error']) + 1)\n",
        "\n",
        "plt.plot(epochs, loss_values, 'bo', label='Training loss')           \n",
        "plt.plot(epochs, val_loss_values, 'b', label='Validation loss')      \n",
        "plt.title('Training and validation loss')\n",
        "plt.xlabel('Epochs')\n",
        "plt.ylabel('Loss')\n",
        "plt.legend()\n",
        "\n",
        "plt.show()"
      ],
      "execution_count": 345,
      "outputs": [
        {
          "output_type": "display_data",
          "data": {
            "image/png": "[encoded data removed]",
            "text/plain": [
              "<matplotlib.figure.Figure at 0x7fc55f4ac390>"
            ]
          },
          "metadata": {
            "tags": []
          }
        }
      ]
    },
    {
      "metadata": {
        "id": "yGQezHJf11sF",
        "colab_type": "code",
        "colab": {
          "base_uri": "https://localhost:8080/",
          "height": 36
        },
        "outputId": "8ef8a4a3-5859-471d-bd8d-0cc4475c4789"
      },
      "cell_type": "code",
      "source": [
        "## TODO: Evaluate your model\n",
        "predict = model_1.predict(X_test)\n",
        "score = np.sqrt(metrics.mean_squared_error(y_test,predict))\n",
        "print (score)"
      ],
      "execution_count": 346,
      "outputs": [
        {
          "output_type": "stream",
          "text": [
            "3799.6079670593103\n"
          ],
          "name": "stdout"
        }
      ]
    },
    {
      "metadata": {
        "id": "NL2N1RQs97Yj",
        "colab_type": "text"
      },
      "cell_type": "markdown",
      "source": [
        "**EXERCISE 3.2:**  Choose one aspect of the training to train by researching the above points further then passing the compiled model from *3.2* to the \n",
        "\n",
        "---\n",
        "\n",
        "**ANSWER:** *Use code cell below*"
      ]
    },
    {
      "metadata": {
        "id": "XqwxJddK-W-b",
        "colab_type": "code",
        "colab": {}
      },
      "cell_type": "code",
      "source": [
        "## TODO: Build new training approach\n",
        "model_1.fit( #insert parameters here"
      ],
      "execution_count": 0,
      "outputs": []
    },
    {
      "metadata": {
        "id": "HoVA8r7C2NFe",
        "colab_type": "code",
        "colab": {}
      },
      "cell_type": "code",
      "source": [
        "## TODO: Evaluate your model\n",
        "predict = model_1.predict(X_test)\n",
        "score = np.sqrt(metrics.mean_squared_error(y_test,predict))\n",
        "print (score)"
      ],
      "execution_count": 0,
      "outputs": []
    },
    {
      "metadata": {
        "id": "CQmM5S-l1Yo1",
        "colab_type": "text"
      },
      "cell_type": "markdown",
      "source": [
        "### 4. Wrapping up\n",
        "* We have covered: \n",
        "  * What Deep Learning is\n",
        "  * Building, compiling and fitting a model\n",
        "  * Refining how we build model, regularize and train our model\n",
        "* Ideas for additional exercises, *which we can cover via slack if there is demand*:\n",
        "    * Adding additional regularization methods\n",
        "    * Experimenting with adding model layers, changing the number of neurons in the model \n",
        "    "
      ]
    }
  ]
}